{
 "cells": [
  {
   "cell_type": "markdown",
   "metadata": {
    "toc": true
   },
   "source": [
    "<h1>Table of Contents<span class=\"tocSkip\"></span></h1>\n",
    "<div class=\"toc\"><ul class=\"toc-item\"><li><span><a href=\"#Imports\" data-toc-modified-id=\"Imports-1\"><span class=\"toc-item-num\">1&nbsp;&nbsp;</span>Imports</a></span></li><li><span><a href=\"#Training-dataset\" data-toc-modified-id=\"Training-dataset-2\"><span class=\"toc-item-num\">2&nbsp;&nbsp;</span>Training dataset</a></span><ul class=\"toc-item\"><li><span><a href=\"#First-look\" data-toc-modified-id=\"First-look-2.1\"><span class=\"toc-item-num\">2.1&nbsp;&nbsp;</span>First look</a></span></li><li><span><a href=\"#Data-exploration\" data-toc-modified-id=\"Data-exploration-2.2\"><span class=\"toc-item-num\">2.2&nbsp;&nbsp;</span>Data exploration</a></span></li><li><span><a href=\"#Filling-the-missing-values\" data-toc-modified-id=\"Filling-the-missing-values-2.3\"><span class=\"toc-item-num\">2.3&nbsp;&nbsp;</span>Filling the missing values</a></span></li><li><span><a href=\"#Encoding-the-categorical-values\" data-toc-modified-id=\"Encoding-the-categorical-values-2.4\"><span class=\"toc-item-num\">2.4&nbsp;&nbsp;</span>Encoding the categorical values</a></span></li><li><span><a href=\"#Training-some-algorithms\" data-toc-modified-id=\"Training-some-algorithms-2.5\"><span class=\"toc-item-num\">2.5&nbsp;&nbsp;</span>Training some algorithms</a></span><ul class=\"toc-item\"><li><span><a href=\"#Train-test-split\" data-toc-modified-id=\"Train-test-split-2.5.1\"><span class=\"toc-item-num\">2.5.1&nbsp;&nbsp;</span>Train-test split</a></span></li><li><span><a href=\"#Random-Forest\" data-toc-modified-id=\"Random-Forest-2.5.2\"><span class=\"toc-item-num\">2.5.2&nbsp;&nbsp;</span>Random Forest</a></span></li><li><span><a href=\"#Logistic-Regression\" data-toc-modified-id=\"Logistic-Regression-2.5.3\"><span class=\"toc-item-num\">2.5.3&nbsp;&nbsp;</span>Logistic Regression</a></span></li></ul></li></ul></li><li><span><a href=\"#Generating-predictions-on-the-test-set\" data-toc-modified-id=\"Generating-predictions-on-the-test-set-3\"><span class=\"toc-item-num\">3&nbsp;&nbsp;</span>Generating predictions on the test set</a></span><ul class=\"toc-item\"><li><span><a href=\"#Filling-the-missing-values\" data-toc-modified-id=\"Filling-the-missing-values-3.1\"><span class=\"toc-item-num\">3.1&nbsp;&nbsp;</span>Filling the missing values</a></span></li><li><span><a href=\"#Encoding-the-categorical-values\" data-toc-modified-id=\"Encoding-the-categorical-values-3.2\"><span class=\"toc-item-num\">3.2&nbsp;&nbsp;</span>Encoding the categorical values</a></span></li><li><span><a href=\"#Predictions\" data-toc-modified-id=\"Predictions-3.3\"><span class=\"toc-item-num\">3.3&nbsp;&nbsp;</span>Predictions</a></span></li></ul></li><li><span><a href=\"#Next-steps\" data-toc-modified-id=\"Next-steps-4\"><span class=\"toc-item-num\">4&nbsp;&nbsp;</span>Next steps</a></span></li></ul></div>"
   ]
  },
  {
   "cell_type": "markdown",
   "metadata": {},
   "source": [
    "# Imports"
   ]
  },
  {
   "cell_type": "code",
   "execution_count": 1,
   "metadata": {
    "ExecuteTime": {
     "end_time": "2021-11-18T14:14:13.206306Z",
     "start_time": "2021-11-18T14:14:11.730091Z"
    }
   },
   "outputs": [],
   "source": [
    "import matplotlib.pyplot as plt\n",
    "import numpy as np\n",
    "import pandas as pd\n",
    "from sklearn.ensemble import RandomForestClassifier\n",
    "from sklearn.linear_model import LogisticRegression\n",
    "from sklearn.metrics import f1_score, confusion_matrix\n",
    "from sklearn.model_selection import GridSearchCV, train_test_split\n",
    "from sklearn.preprocessing import OneHotEncoder, StandardScaler"
   ]
  },
  {
   "cell_type": "markdown",
   "metadata": {},
   "source": [
    "# Training dataset"
   ]
  },
  {
   "cell_type": "markdown",
   "metadata": {},
   "source": [
    "## First look"
   ]
  },
  {
   "cell_type": "code",
   "execution_count": 2,
   "metadata": {
    "ExecuteTime": {
     "end_time": "2021-11-18T14:14:13.302395Z",
     "start_time": "2021-11-18T14:14:13.209236Z"
    },
    "scrolled": true
   },
   "outputs": [
    {
     "name": "stdout",
     "output_type": "stream",
     "text": [
      "(8161, 25)\n"
     ]
    },
    {
     "data": {
      "text/html": [
       "<div>\n",
       "<style scoped>\n",
       "    .dataframe tbody tr th:only-of-type {\n",
       "        vertical-align: middle;\n",
       "    }\n",
       "\n",
       "    .dataframe tbody tr th {\n",
       "        vertical-align: top;\n",
       "    }\n",
       "\n",
       "    .dataframe thead th {\n",
       "        text-align: right;\n",
       "    }\n",
       "</style>\n",
       "<table border=\"1\" class=\"dataframe\">\n",
       "  <thead>\n",
       "    <tr style=\"text-align: right;\">\n",
       "      <th>INDEX</th>\n",
       "      <th>24</th>\n",
       "    </tr>\n",
       "  </thead>\n",
       "  <tbody>\n",
       "    <tr>\n",
       "      <th>TARGET_FLAG</th>\n",
       "      <td>0</td>\n",
       "    </tr>\n",
       "    <tr>\n",
       "      <th>TARGET_AMT</th>\n",
       "      <td>0.0</td>\n",
       "    </tr>\n",
       "    <tr>\n",
       "      <th>KIDSDRIV</th>\n",
       "      <td>0</td>\n",
       "    </tr>\n",
       "    <tr>\n",
       "      <th>AGE</th>\n",
       "      <td>31.0</td>\n",
       "    </tr>\n",
       "    <tr>\n",
       "      <th>HOMEKIDS</th>\n",
       "      <td>2</td>\n",
       "    </tr>\n",
       "    <tr>\n",
       "      <th>YOJ</th>\n",
       "      <td>12.0</td>\n",
       "    </tr>\n",
       "    <tr>\n",
       "      <th>INCOME</th>\n",
       "      <td>$18,903</td>\n",
       "    </tr>\n",
       "    <tr>\n",
       "      <th>PARENT1</th>\n",
       "      <td>No</td>\n",
       "    </tr>\n",
       "    <tr>\n",
       "      <th>HOME_VAL</th>\n",
       "      <td>$93,797</td>\n",
       "    </tr>\n",
       "    <tr>\n",
       "      <th>MSTATUS</th>\n",
       "      <td>Yes</td>\n",
       "    </tr>\n",
       "    <tr>\n",
       "      <th>SEX</th>\n",
       "      <td>z_F</td>\n",
       "    </tr>\n",
       "    <tr>\n",
       "      <th>EDUCATION</th>\n",
       "      <td>&lt;High School</td>\n",
       "    </tr>\n",
       "    <tr>\n",
       "      <th>JOB</th>\n",
       "      <td>Clerical</td>\n",
       "    </tr>\n",
       "    <tr>\n",
       "      <th>TRAVTIME</th>\n",
       "      <td>48</td>\n",
       "    </tr>\n",
       "    <tr>\n",
       "      <th>CAR_USE</th>\n",
       "      <td>Private</td>\n",
       "    </tr>\n",
       "    <tr>\n",
       "      <th>BLUEBOOK</th>\n",
       "      <td>$17,330</td>\n",
       "    </tr>\n",
       "    <tr>\n",
       "      <th>TIF</th>\n",
       "      <td>4</td>\n",
       "    </tr>\n",
       "    <tr>\n",
       "      <th>CAR_TYPE</th>\n",
       "      <td>Minivan</td>\n",
       "    </tr>\n",
       "    <tr>\n",
       "      <th>RED_CAR</th>\n",
       "      <td>no</td>\n",
       "    </tr>\n",
       "    <tr>\n",
       "      <th>OLDCLAIM</th>\n",
       "      <td>$0</td>\n",
       "    </tr>\n",
       "    <tr>\n",
       "      <th>CLM_FREQ</th>\n",
       "      <td>0</td>\n",
       "    </tr>\n",
       "    <tr>\n",
       "      <th>REVOKED</th>\n",
       "      <td>No</td>\n",
       "    </tr>\n",
       "    <tr>\n",
       "      <th>MVR_PTS</th>\n",
       "      <td>0</td>\n",
       "    </tr>\n",
       "    <tr>\n",
       "      <th>CAR_AGE</th>\n",
       "      <td>7.0</td>\n",
       "    </tr>\n",
       "    <tr>\n",
       "      <th>URBANICITY</th>\n",
       "      <td>Highly Urban/ Urban</td>\n",
       "    </tr>\n",
       "  </tbody>\n",
       "</table>\n",
       "</div>"
      ],
      "text/plain": [
       "INDEX                         24\n",
       "TARGET_FLAG                    0\n",
       "TARGET_AMT                   0.0\n",
       "KIDSDRIV                       0\n",
       "AGE                         31.0\n",
       "HOMEKIDS                       2\n",
       "YOJ                         12.0\n",
       "INCOME                  $18,903 \n",
       "PARENT1                       No\n",
       "HOME_VAL                $93,797 \n",
       "MSTATUS                      Yes\n",
       "SEX                          z_F\n",
       "EDUCATION           <High School\n",
       "JOB                     Clerical\n",
       "TRAVTIME                      48\n",
       "CAR_USE                  Private\n",
       "BLUEBOOK                $17,330 \n",
       "TIF                            4\n",
       "CAR_TYPE                 Minivan\n",
       "RED_CAR                       no\n",
       "OLDCLAIM                     $0 \n",
       "CLM_FREQ                       0\n",
       "REVOKED                       No\n",
       "MVR_PTS                        0\n",
       "CAR_AGE                      7.0\n",
       "URBANICITY   Highly Urban/ Urban"
      ]
     },
     "execution_count": 2,
     "metadata": {},
     "output_type": "execute_result"
    }
   ],
   "source": [
    "train_df = pd.read_csv(\"train_auto.csv\", index_col=0)\n",
    "print(train_df.shape)\n",
    "train_df.sample().T"
   ]
  },
  {
   "cell_type": "code",
   "execution_count": 3,
   "metadata": {
    "ExecuteTime": {
     "end_time": "2021-11-18T14:14:13.324311Z",
     "start_time": "2021-11-18T14:14:13.304919Z"
    }
   },
   "outputs": [
    {
     "data": {
      "text/plain": [
       "0    6008\n",
       "1    2153\n",
       "Name: TARGET_FLAG, dtype: int64"
      ]
     },
     "execution_count": 3,
     "metadata": {},
     "output_type": "execute_result"
    }
   ],
   "source": [
    "# First look at the target column\n",
    "train_df[\"TARGET_FLAG\"].value_counts()"
   ]
  },
  {
   "cell_type": "markdown",
   "metadata": {},
   "source": [
    "We notice that there are 25 columns, including 2 target columns, so 23 feature columns.  \n",
    "Most of the feature names are quite explicit, even though a few of them are not really clear to me (TIF, YOJ and MVR_PTS).   \n",
    "We will first do some data exploration and visualization, but this first glance at the dataset gives us a few hints for the processing and modelling steps:  \n",
    "- we will have to parse the INCOME, HOME_VAL, BLUEBOOK and OLD_CLAIM columns to remove the $ sign  \n",
    "- we will have to encode the categorical variables before fitting models  \n",
    "- the high number of features imply that an algorithm such as KNN should not be chosen   \n",
    "- we note that the target column is unbalanced (~75% of negative labels), this means that we will have to choose a suitable metric (not the accuracy for instance)  "
   ]
  },
  {
   "cell_type": "code",
   "execution_count": 4,
   "metadata": {
    "ExecuteTime": {
     "end_time": "2021-11-18T14:14:13.359397Z",
     "start_time": "2021-11-18T14:14:13.326880Z"
    }
   },
   "outputs": [],
   "source": [
    "# Drop the auxiliary target column\n",
    "train_df = train_df.drop([\"TARGET_AMT\"], axis=1)"
   ]
  },
  {
   "cell_type": "code",
   "execution_count": 5,
   "metadata": {
    "ExecuteTime": {
     "end_time": "2021-11-18T14:14:13.410902Z",
     "start_time": "2021-11-18T14:14:13.364128Z"
    }
   },
   "outputs": [
    {
     "data": {
      "text/plain": [
       "TARGET_FLAG      0\n",
       "KIDSDRIV         0\n",
       "AGE              6\n",
       "HOMEKIDS         0\n",
       "YOJ            454\n",
       "INCOME         445\n",
       "PARENT1          0\n",
       "HOME_VAL       464\n",
       "MSTATUS          0\n",
       "SEX              0\n",
       "EDUCATION        0\n",
       "JOB            526\n",
       "TRAVTIME         0\n",
       "CAR_USE          0\n",
       "BLUEBOOK         0\n",
       "TIF              0\n",
       "CAR_TYPE         0\n",
       "RED_CAR          0\n",
       "OLDCLAIM         0\n",
       "CLM_FREQ         0\n",
       "REVOKED          0\n",
       "MVR_PTS          0\n",
       "CAR_AGE        510\n",
       "URBANICITY       0\n",
       "dtype: int64"
      ]
     },
     "execution_count": 5,
     "metadata": {},
     "output_type": "execute_result"
    }
   ],
   "source": [
    "# Check for NaNs\n",
    "train_df.isna().sum()"
   ]
  },
  {
   "cell_type": "code",
   "execution_count": 6,
   "metadata": {
    "ExecuteTime": {
     "end_time": "2021-11-18T14:14:13.452681Z",
     "start_time": "2021-11-18T14:14:13.413313Z"
    }
   },
   "outputs": [
    {
     "name": "stdout",
     "output_type": "stream",
     "text": [
      "2116\n"
     ]
    }
   ],
   "source": [
    "print(len(train_df[train_df.isna().any(axis=1)]))"
   ]
  },
  {
   "cell_type": "markdown",
   "metadata": {},
   "source": [
    "There are six columns with NaNs, one (AGE) with only 6 missing records, and the other ones with 400-500 missing records. Besides, this is not the same subset of rows that have NaNs in all these columns, but instead the NaNs are scattered across more than 2000 rows of the dataset. Therefore, we cannot drop the rows with NaNs (we could have imagined do that for a quick first pass if the number of rows with missing values were smaller), so we will have to impute the missing values.  \n",
    "But before that, we will explore the dataset.  "
   ]
  },
  {
   "cell_type": "markdown",
   "metadata": {},
   "source": [
    "## Data exploration"
   ]
  },
  {
   "cell_type": "markdown",
   "metadata": {},
   "source": [
    "First, we remove the dollar signs from the money columns and cast the values to float"
   ]
  },
  {
   "cell_type": "code",
   "execution_count": 7,
   "metadata": {
    "ExecuteTime": {
     "end_time": "2021-11-18T14:14:13.511042Z",
     "start_time": "2021-11-18T14:14:13.455983Z"
    }
   },
   "outputs": [],
   "source": [
    "def dollar_amount_to_float(amount):\n",
    "    if not isinstance(amount, str) and np.isnan(amount):\n",
    "        return np.nan\n",
    "    return float(amount[1:].strip().replace(\",\", \"\"))\n",
    "\n",
    "train_df[\"INCOME\"] = train_df[\"INCOME\"].apply(dollar_amount_to_float)\n",
    "train_df[\"HOME_VAL\"] = train_df[\"HOME_VAL\"].apply(dollar_amount_to_float)\n",
    "train_df[\"BLUEBOOK\"] = train_df[\"BLUEBOOK\"].apply(dollar_amount_to_float)\n",
    "train_df[\"OLDCLAIM\"] = train_df[\"OLDCLAIM\"].apply(dollar_amount_to_float)"
   ]
  },
  {
   "cell_type": "markdown",
   "metadata": {},
   "source": [
    "Now, we plot the distribution of each column (and the value repartition for the categorical columns)"
   ]
  },
  {
   "cell_type": "code",
   "execution_count": 8,
   "metadata": {
    "ExecuteTime": {
     "end_time": "2021-11-18T14:14:17.759953Z",
     "start_time": "2021-11-18T14:14:13.513844Z"
    }
   },
   "outputs": [
    {
     "name": "stdout",
     "output_type": "stream",
     "text": [
      "Column: KIDSDRIV\n"
     ]
    },
    {
     "data": {
      "text/plain": [
       "<BarContainer object of 5 artists>"
      ]
     },
     "execution_count": 8,
     "metadata": {},
     "output_type": "execute_result"
    },
    {
     "data": {
      "image/png": "[encoded data removed]",
      "text/plain": [
       "<Figure size 432x288 with 1 Axes>"
      ]
     },
     "metadata": {
      "needs_background": "light"
     },
     "output_type": "display_data"
    },
    {
     "name": "stdout",
     "output_type": "stream",
     "text": [
      "Column: AGE\n"
     ]
    },
    {
     "data": {
      "text/plain": [
       "<AxesSubplot:ylabel='Frequency'>"
      ]
     },
     "execution_count": 8,
     "metadata": {},
     "output_type": "execute_result"
    },
    {
     "data": {
      "image/png": "[encoded data removed]",
      "text/plain": [
       "<Figure size 432x288 with 1 Axes>"
      ]
     },
     "metadata": {
      "needs_background": "light"
     },
     "output_type": "display_data"
    },
    {
     "name": "stdout",
     "output_type": "stream",
     "text": [
      "Column: HOMEKIDS\n"
     ]
    },
    {
     "data": {
      "text/plain": [
       "<AxesSubplot:ylabel='Frequency'>"
      ]
     },
     "execution_count": 8,
     "metadata": {},
     "output_type": "execute_result"
    },
    {
     "data": {
      "image/png": "[encoded data removed]",
      "text/plain": [
       "<Figure size 432x288 with 1 Axes>"
      ]
     },
     "metadata": {
      "needs_background": "light"
     },
     "output_type": "display_data"
    },
    {
     "name": "stdout",
     "output_type": "stream",
     "text": [
      "Column: YOJ\n"
     ]
    },
    {
     "data": {
      "text/plain": [
       "<AxesSubplot:ylabel='Frequency'>"
      ]
     },
     "execution_count": 8,
     "metadata": {},
     "output_type": "execute_result"
    },
    {
     "data": {
      "image/png": "[encoded data removed]",
      "text/plain": [
       "<Figure size 432x288 with 1 Axes>"
      ]
     },
     "metadata": {
      "needs_background": "light"
     },
     "output_type": "display_data"
    },
    {
     "name": "stdout",
     "output_type": "stream",
     "text": [
      "Column: INCOME\n"
     ]
    },
    {
     "data": {
      "text/plain": [
       "<AxesSubplot:ylabel='Frequency'>"
      ]
     },
     "execution_count": 8,
     "metadata": {},
     "output_type": "execute_result"
    },
    {
     "data": {
      "image/png": "[encoded data removed]",
      "text/plain": [
       "<Figure size 432x288 with 1 Axes>"
      ]
     },
     "metadata": {
      "needs_background": "light"
     },
     "output_type": "display_data"
    },
    {
     "name": "stdout",
     "output_type": "stream",
     "text": [
      "Column: PARENT1\n"
     ]
    },
    {
     "data": {
      "text/plain": [
       "<BarContainer object of 2 artists>"
      ]
     },
     "execution_count": 8,
     "metadata": {},
     "output_type": "execute_result"
    },
    {
     "data": {
      "image/png": "[encoded data removed]",
      "text/plain": [
       "<Figure size 432x288 with 1 Axes>"
      ]
     },
     "metadata": {
      "needs_background": "light"
     },
     "output_type": "display_data"
    },
    {
     "name": "stdout",
     "output_type": "stream",
     "text": [
      "Column: HOME_VAL\n"
     ]
    },
    {
     "data": {
      "text/plain": [
       "<AxesSubplot:ylabel='Frequency'>"
      ]
     },
     "execution_count": 8,
     "metadata": {},
     "output_type": "execute_result"
    },
    {
     "data": {
      "image/png": "[encoded data removed]",
      "text/plain": [
       "<Figure size 432x288 with 1 Axes>"
      ]
     },
     "metadata": {
      "needs_background": "light"
     },
     "output_type": "display_data"
    },
    {
     "name": "stdout",
     "output_type": "stream",
     "text": [
      "Column: MSTATUS\n"
     ]
    },
    {
     "data": {
      "text/plain": [
       "<BarContainer object of 2 artists>"
      ]
     },
     "execution_count": 8,
     "metadata": {},
     "output_type": "execute_result"
    },
    {
     "data": {
      "image/png": "[encoded data removed]",
      "text/plain": [
       "<Figure size 432x288 with 1 Axes>"
      ]
     },
     "metadata": {
      "needs_background": "light"
     },
     "output_type": "display_data"
    },
    {
     "name": "stdout",
     "output_type": "stream",
     "text": [
      "Column: SEX\n"
     ]
    },
    {
     "data": {
      "text/plain": [
       "<BarContainer object of 2 artists>"
      ]
     },
     "execution_count": 8,
     "metadata": {},
     "output_type": "execute_result"
    },
    {
     "data": {
      "image/png": "[encoded data removed]",
      "text/plain": [
       "<Figure size 432x288 with 1 Axes>"
      ]
     },
     "metadata": {
      "needs_background": "light"
     },
     "output_type": "display_data"
    },
    {
     "name": "stdout",
     "output_type": "stream",
     "text": [
      "Column: EDUCATION\n"
     ]
    },
    {
     "data": {
      "text/plain": [
       "<BarContainer object of 5 artists>"
      ]
     },
     "execution_count": 8,
     "metadata": {},
     "output_type": "execute_result"
    },
    {
     "data": {
      "image/png": "[encoded data removed]",
      "text/plain": [
       "<Figure size 432x288 with 1 Axes>"
      ]
     },
     "metadata": {
      "needs_background": "light"
     },
     "output_type": "display_data"
    },
    {
     "name": "stdout",
     "output_type": "stream",
     "text": [
      "Column: JOB\n"
     ]
    },
    {
     "data": {
      "text/plain": [
       "<BarContainer object of 8 artists>"
      ]
     },
     "execution_count": 8,
     "metadata": {},
     "output_type": "execute_result"
    },
    {
     "data": {
      "image/png": "[encoded data removed]",
      "text/plain": [
       "<Figure size 432x288 with 1 Axes>"
      ]
     },
     "metadata": {
      "needs_background": "light"
     },
     "output_type": "display_data"
    },
    {
     "name": "stdout",
     "output_type": "stream",
     "text": [
      "Column: TRAVTIME\n"
     ]
    },
    {
     "data": {
      "text/plain": [
       "<AxesSubplot:ylabel='Frequency'>"
      ]
     },
     "execution_count": 8,
     "metadata": {},
     "output_type": "execute_result"
    },
    {
     "data": {
      "image/png": "[encoded data removed]",
      "text/plain": [
       "<Figure size 432x288 with 1 Axes>"
      ]
     },
     "metadata": {
      "needs_background": "light"
     },
     "output_type": "display_data"
    },
    {
     "name": "stdout",
     "output_type": "stream",
     "text": [
      "Column: CAR_USE\n"
     ]
    },
    {
     "data": {
      "text/plain": [
       "<BarContainer object of 2 artists>"
      ]
     },
     "execution_count": 8,
     "metadata": {},
     "output_type": "execute_result"
    },
    {
     "data": {
      "image/png": "[encoded data removed]",
      "text/plain": [
       "<Figure size 432x288 with 1 Axes>"
      ]
     },
     "metadata": {
      "needs_background": "light"
     },
     "output_type": "display_data"
    },
    {
     "name": "stdout",
     "output_type": "stream",
     "text": [
      "Column: BLUEBOOK\n"
     ]
    },
    {
     "data": {
      "text/plain": [
       "<AxesSubplot:ylabel='Frequency'>"
      ]
     },
     "execution_count": 8,
     "metadata": {},
     "output_type": "execute_result"
    },
    {
     "data": {
      "image/png": "[encoded data removed]",
      "text/plain": [
       "<Figure size 432x288 with 1 Axes>"
      ]
     },
     "metadata": {
      "needs_background": "light"
     },
     "output_type": "display_data"
    },
    {
     "name": "stdout",
     "output_type": "stream",
     "text": [
      "Column: TIF\n"
     ]
    },
    {
     "data": {
      "text/plain": [
       "<AxesSubplot:ylabel='Frequency'>"
      ]
     },
     "execution_count": 8,
     "metadata": {},
     "output_type": "execute_result"
    },
    {
     "data": {
      "image/png": "[encoded data removed]",
      "text/plain": [
       "<Figure size 432x288 with 1 Axes>"
      ]
     },
     "metadata": {
      "needs_background": "light"
     },
     "output_type": "display_data"
    },
    {
     "name": "stdout",
     "output_type": "stream",
     "text": [
      "Column: CAR_TYPE\n"
     ]
    },
    {
     "data": {
      "text/plain": [
       "<BarContainer object of 6 artists>"
      ]
     },
     "execution_count": 8,
     "metadata": {},
     "output_type": "execute_result"
    },
    {
     "data": {
      "image/png": "[encoded data removed]",
      "text/plain": [
       "<Figure size 432x288 with 1 Axes>"
      ]
     },
     "metadata": {
      "needs_background": "light"
     },
     "output_type": "display_data"
    },
    {
     "name": "stdout",
     "output_type": "stream",
     "text": [
      "Column: RED_CAR\n"
     ]
    },
    {
     "data": {
      "text/plain": [
       "<BarContainer object of 2 artists>"
      ]
     },
     "execution_count": 8,
     "metadata": {},
     "output_type": "execute_result"
    },
    {
     "data": {
      "image/png": "[encoded data removed]",
      "text/plain": [
       "<Figure size 432x288 with 1 Axes>"
      ]
     },
     "metadata": {
      "needs_background": "light"
     },
     "output_type": "display_data"
    },
    {
     "name": "stdout",
     "output_type": "stream",
     "text": [
      "Column: OLDCLAIM\n"
     ]
    },
    {
     "data": {
      "text/plain": [
       "<AxesSubplot:ylabel='Frequency'>"
      ]
     },
     "execution_count": 8,
     "metadata": {},
     "output_type": "execute_result"
    },
    {
     "data": {
      "image/png": "[encoded data removed]",
      "text/plain": [
       "<Figure size 432x288 with 1 Axes>"
      ]
     },
     "metadata": {
      "needs_background": "light"
     },
     "output_type": "display_data"
    },
    {
     "name": "stdout",
     "output_type": "stream",
     "text": [
      "Column: CLM_FREQ\n"
     ]
    },
    {
     "data": {
      "text/plain": [
       "<AxesSubplot:ylabel='Frequency'>"
      ]
     },
     "execution_count": 8,
     "metadata": {},
     "output_type": "execute_result"
    },
    {
     "data": {
      "image/png": "[encoded data removed]",
      "text/plain": [
       "<Figure size 432x288 with 1 Axes>"
      ]
     },
     "metadata": {
      "needs_background": "light"
     },
     "output_type": "display_data"
    },
    {
     "name": "stdout",
     "output_type": "stream",
     "text": [
      "Column: REVOKED\n"
     ]
    },
    {
     "data": {
      "text/plain": [
       "<BarContainer object of 2 artists>"
      ]
     },
     "execution_count": 8,
     "metadata": {},
     "output_type": "execute_result"
    },
    {
     "data": {
      "image/png": "[encoded data removed]",
      "text/plain": [
       "<Figure size 432x288 with 1 Axes>"
      ]
     },
     "metadata": {
      "needs_background": "light"
     },
     "output_type": "display_data"
    },
    {
     "name": "stdout",
     "output_type": "stream",
     "text": [
      "Column: MVR_PTS\n"
     ]
    },
    {
     "data": {
      "text/plain": [
       "<AxesSubplot:ylabel='Frequency'>"
      ]
     },
     "execution_count": 8,
     "metadata": {},
     "output_type": "execute_result"
    },
    {
     "data": {
      "image/png": "[encoded data removed]",
      "text/plain": [
       "<Figure size 432x288 with 1 Axes>"
      ]
     },
     "metadata": {
      "needs_background": "light"
     },
     "output_type": "display_data"
    },
    {
     "name": "stdout",
     "output_type": "stream",
     "text": [
      "Column: CAR_AGE\n"
     ]
    },
    {
     "data": {
      "text/plain": [
       "<AxesSubplot:ylabel='Frequency'>"
      ]
     },
     "execution_count": 8,
     "metadata": {},
     "output_type": "execute_result"
    },
    {
     "data": {
      "image/png": "[encoded data removed]",
      "text/plain": [
       "<Figure size 432x288 with 1 Axes>"
      ]
     },
     "metadata": {
      "needs_background": "light"
     },
     "output_type": "display_data"
    },
    {
     "name": "stdout",
     "output_type": "stream",
     "text": [
      "Column: URBANICITY\n"
     ]
    },
    {
     "data": {
      "text/plain": [
       "<BarContainer object of 2 artists>"
      ]
     },
     "execution_count": 8,
     "metadata": {},
     "output_type": "execute_result"
    },
    {
     "data": {
      "image/png": "[encoded data removed]",
      "text/plain": [
       "<Figure size 432x288 with 1 Axes>"
      ]
     },
     "metadata": {
      "needs_background": "light"
     },
     "output_type": "display_data"
    }
   ],
   "source": [
    "for col in train_df.columns:\n",
    "    if col == \"TARGET_FLAG\":\n",
    "        continue\n",
    "    print(f\"Column: {col}\")\n",
    "    if col in [\"KIDSDRIV\", \"PARENT1\", \"MSTATUS\", \"SEX\", \"EDUCATION\", \"JOB\",\n",
    "            \"CAR_USE\", \"CAR_TYPE\", \"RED_CAR\", \"REVOKED\", \"URBANICITY\"]:\n",
    "        counts = train_df[col].value_counts()\n",
    "        plt.bar(x=counts.index, height=counts.values)\n",
    "        plt.show()\n",
    "    else:\n",
    "        if col == \"MVR_PTS\":\n",
    "            train_df[col].plot.hist(bins=13)\n",
    "        else:\n",
    "            train_df[col].plot.hist(bins=20)\n",
    "        plt.show()"
   ]
  },
  {
   "cell_type": "markdown",
   "metadata": {},
   "source": [
    "Some observations:  \n",
    "- some column distributions exhibit a peak at the first bin, and then a bell curve (eg, columns YOJ, HOME_VAL, CAR_AGE): this may denote specific profiles.  \n",
    "- we notice that one value of CAR_AGE is negative, this cannot physically happen, so we will set it to 0.   \n",
    "- some columns have lots of 0s, and then few positive values (eg, columns KIDSDRIV, HOMEKIDS, CLM_FREQ, MVR_PTS)   "
   ]
  },
  {
   "cell_type": "code",
   "execution_count": 9,
   "metadata": {
    "ExecuteTime": {
     "end_time": "2021-11-18T14:14:17.781401Z",
     "start_time": "2021-11-18T14:14:17.761997Z"
    }
   },
   "outputs": [],
   "source": [
    "# \"Correct\" the CAR_AGE negative value\n",
    "train_df.loc[train_df[\"CAR_AGE\"] < 0, \"CAR_AGE\"] = 0"
   ]
  },
  {
   "cell_type": "markdown",
   "metadata": {},
   "source": [
    "Now we plot the correlation between all the numerical features  "
   ]
  },
  {
   "cell_type": "code",
   "execution_count": 10,
   "metadata": {
    "ExecuteTime": {
     "end_time": "2021-11-18T14:14:18.398168Z",
     "start_time": "2021-11-18T14:14:17.785182Z"
    }
   },
   "outputs": [
    {
     "data": {
      "image/png": "[encoded data removed]",
      "text/plain": [
       "<Figure size 864x864 with 2 Axes>"
      ]
     },
     "metadata": {
      "needs_background": "light"
     },
     "output_type": "display_data"
    }
   ],
   "source": [
    "corr = train_df.corr()\n",
    "fig, ax = plt.subplots(figsize=(12, 12))\n",
    "cax = ax.matshow(corr, cmap=\"RdBu\", vmin=-1, vmax=1)\n",
    "_ = plt.xticks(range(len(corr.columns)), corr.columns)\n",
    "_ = plt.yticks(range(len(corr.columns)), corr.columns)\n",
    "cbar = fig.colorbar(cax, fraction=0.05, pad=0.01)\n",
    "plt.show()"
   ]
  },
  {
   "cell_type": "markdown",
   "metadata": {},
   "source": [
    "We notice that: \n",
    "- no feature column is strongly correlated (or anti-correlated) with the target column  \n",
    "- some feature columns exhibit some correlation: \n",
    "    - HOMEKIDS and KIDSDRIVE are positively correlated (this was to be expected)  \n",
    "    - AGE and HOMEKIDS are negatively correlated (this was to be expected)  \n",
    "    - INCOME is strongly correlated with HOME_VAL (this was to be expected), and moderately correlated with BLUEBOOK (this could have been expected too), YOJ and CAR_AGE  \n",
    "    - OLD_CLAIM is strongly correlated with CLM_FREQ (this was to be expected), and moderately correlated with MVR_PTS     "
   ]
  },
  {
   "cell_type": "markdown",
   "metadata": {},
   "source": [
    "Now, for the categorical variables, we plot the repartition of the target for each class."
   ]
  },
  {
   "cell_type": "code",
   "execution_count": 11,
   "metadata": {
    "ExecuteTime": {
     "end_time": "2021-11-18T14:14:20.840135Z",
     "start_time": "2021-11-18T14:14:18.399832Z"
    }
   },
   "outputs": [
    {
     "name": "stdout",
     "output_type": "stream",
     "text": [
      "PARENT1\n"
     ]
    },
    {
     "data": {
      "text/plain": [
       "<AxesSubplot:xlabel='PARENT1'>"
      ]
     },
     "execution_count": 11,
     "metadata": {},
     "output_type": "execute_result"
    },
    {
     "data": {
      "image/png": "[encoded data removed]",
      "text/plain": [
       "<Figure size 432x288 with 1 Axes>"
      ]
     },
     "metadata": {
      "needs_background": "light"
     },
     "output_type": "display_data"
    },
    {
     "name": "stdout",
     "output_type": "stream",
     "text": [
      "MSTATUS\n"
     ]
    },
    {
     "data": {
      "text/plain": [
       "<AxesSubplot:xlabel='MSTATUS'>"
      ]
     },
     "execution_count": 11,
     "metadata": {},
     "output_type": "execute_result"
    },
    {
     "data": {
      "image/png": "[encoded data removed]",
      "text/plain": [
       "<Figure size 432x288 with 1 Axes>"
      ]
     },
     "metadata": {
      "needs_background": "light"
     },
     "output_type": "display_data"
    },
    {
     "name": "stdout",
     "output_type": "stream",
     "text": [
      "SEX\n"
     ]
    },
    {
     "data": {
      "text/plain": [
       "<AxesSubplot:xlabel='SEX'>"
      ]
     },
     "execution_count": 11,
     "metadata": {},
     "output_type": "execute_result"
    },
    {
     "data": {
      "image/png": "[encoded data removed]",
      "text/plain": [
       "<Figure size 432x288 with 1 Axes>"
      ]
     },
     "metadata": {
      "needs_background": "light"
     },
     "output_type": "display_data"
    },
    {
     "name": "stdout",
     "output_type": "stream",
     "text": [
      "CAR_USE\n"
     ]
    },
    {
     "data": {
      "text/plain": [
       "<AxesSubplot:xlabel='CAR_USE'>"
      ]
     },
     "execution_count": 11,
     "metadata": {},
     "output_type": "execute_result"
    },
    {
     "data": {
      "image/png": "[encoded data removed]",
      "text/plain": [
       "<Figure size 432x288 with 1 Axes>"
      ]
     },
     "metadata": {
      "needs_background": "light"
     },
     "output_type": "display_data"
    },
    {
     "name": "stdout",
     "output_type": "stream",
     "text": [
      "RED_CAR\n"
     ]
    },
    {
     "data": {
      "text/plain": [
       "<AxesSubplot:xlabel='RED_CAR'>"
      ]
     },
     "execution_count": 11,
     "metadata": {},
     "output_type": "execute_result"
    },
    {
     "data": {
      "image/png": "[encoded data removed]",
      "text/plain": [
       "<Figure size 432x288 with 1 Axes>"
      ]
     },
     "metadata": {
      "needs_background": "light"
     },
     "output_type": "display_data"
    },
    {
     "name": "stdout",
     "output_type": "stream",
     "text": [
      "REVOKED\n"
     ]
    },
    {
     "data": {
      "text/plain": [
       "<AxesSubplot:xlabel='REVOKED'>"
      ]
     },
     "execution_count": 11,
     "metadata": {},
     "output_type": "execute_result"
    },
    {
     "data": {
      "image/png": "[encoded data removed]",
      "text/plain": [
       "<Figure size 432x288 with 1 Axes>"
      ]
     },
     "metadata": {
      "needs_background": "light"
     },
     "output_type": "display_data"
    },
    {
     "name": "stdout",
     "output_type": "stream",
     "text": [
      "URBANICITY\n"
     ]
    },
    {
     "data": {
      "text/plain": [
       "<AxesSubplot:xlabel='URBANICITY'>"
      ]
     },
     "execution_count": 11,
     "metadata": {},
     "output_type": "execute_result"
    },
    {
     "data": {
      "image/png": "[encoded data removed]",
      "text/plain": [
       "<Figure size 432x288 with 1 Axes>"
      ]
     },
     "metadata": {
      "needs_background": "light"
     },
     "output_type": "display_data"
    },
    {
     "name": "stdout",
     "output_type": "stream",
     "text": [
      "EDUCATION\n"
     ]
    },
    {
     "data": {
      "text/plain": [
       "<AxesSubplot:xlabel='EDUCATION'>"
      ]
     },
     "execution_count": 11,
     "metadata": {},
     "output_type": "execute_result"
    },
    {
     "data": {
      "image/png": "[encoded data removed]",
      "text/plain": [
       "<Figure size 432x288 with 1 Axes>"
      ]
     },
     "metadata": {
      "needs_background": "light"
     },
     "output_type": "display_data"
    },
    {
     "name": "stdout",
     "output_type": "stream",
     "text": [
      "JOB\n"
     ]
    },
    {
     "data": {
      "text/plain": [
       "<AxesSubplot:xlabel='JOB'>"
      ]
     },
     "execution_count": 11,
     "metadata": {},
     "output_type": "execute_result"
    },
    {
     "data": {
      "image/png": "[encoded data removed]",
      "text/plain": [
       "<Figure size 432x288 with 1 Axes>"
      ]
     },
     "metadata": {
      "needs_background": "light"
     },
     "output_type": "display_data"
    },
    {
     "name": "stdout",
     "output_type": "stream",
     "text": [
      "CAR_TYPE\n"
     ]
    },
    {
     "data": {
      "text/plain": [
       "<AxesSubplot:xlabel='CAR_TYPE'>"
      ]
     },
     "execution_count": 11,
     "metadata": {},
     "output_type": "execute_result"
    },
    {
     "data": {
      "image/png": "[encoded data removed]",
      "text/plain": [
       "<Figure size 432x288 with 1 Axes>"
      ]
     },
     "metadata": {
      "needs_background": "light"
     },
     "output_type": "display_data"
    }
   ],
   "source": [
    "for col in [\"PARENT1\", \"MSTATUS\", \"SEX\", \"CAR_USE\", \"RED_CAR\", \"REVOKED\",\n",
    "            \"URBANICITY\", \"EDUCATION\", \"JOB\", \"CAR_TYPE\"]:\n",
    "    print(col)\n",
    "    pd.crosstab(train_df[col], train_df[\"TARGET_FLAG\"],\n",
    "                normalize=\"index\").plot.bar(stacked=True)\n",
    "    plt.show()"
   ]
  },
  {
   "cell_type": "markdown",
   "metadata": {},
   "source": [
    "Only the SEX and RED_CAR columns show a nearly identical repartition of the target for each class.    "
   ]
  },
  {
   "cell_type": "markdown",
   "metadata": {},
   "source": [
    "## Filling the missing values"
   ]
  },
  {
   "cell_type": "markdown",
   "metadata": {},
   "source": [
    "The first idea I have to fill missing values is to use the median of each columns.  \n",
    "Before doing so, for each column with missing values, we will plot the distribution of the column with the median and the mean (except for the JOB column because it is non-numerical).  "
   ]
  },
  {
   "cell_type": "code",
   "execution_count": 12,
   "metadata": {
    "ExecuteTime": {
     "end_time": "2021-11-18T14:14:21.845403Z",
     "start_time": "2021-11-18T14:14:20.842465Z"
    },
    "scrolled": true
   },
   "outputs": [
    {
     "name": "stdout",
     "output_type": "stream",
     "text": [
      "AGE\n",
      "nb of NaNs: 6\n",
      "mean: 44.79031269160024 ; median: 45.0\n"
     ]
    },
    {
     "data": {
      "image/png": "[encoded data removed]",
      "text/plain": [
       "<Figure size 432x288 with 1 Axes>"
      ]
     },
     "metadata": {
      "needs_background": "light"
     },
     "output_type": "display_data"
    },
    {
     "name": "stdout",
     "output_type": "stream",
     "text": [
      "YOJ\n",
      "nb of NaNs: 454\n",
      "mean: 10.499286363046581 ; median: 11.0\n"
     ]
    },
    {
     "data": {
      "image/png": "[encoded data removed]",
      "text/plain": [
       "<Figure size 432x288 with 1 Axes>"
      ]
     },
     "metadata": {
      "needs_background": "light"
     },
     "output_type": "display_data"
    },
    {
     "name": "stdout",
     "output_type": "stream",
     "text": [
      "INCOME\n",
      "nb of NaNs: 445\n",
      "mean: 61898.0946086055 ; median: 54028.0\n"
     ]
    },
    {
     "data": {
      "image/png": "[encoded data removed]",
      "text/plain": [
       "<Figure size 432x288 with 1 Axes>"
      ]
     },
     "metadata": {
      "needs_background": "light"
     },
     "output_type": "display_data"
    },
    {
     "name": "stdout",
     "output_type": "stream",
     "text": [
      "HOME_VAL\n",
      "nb of NaNs: 464\n",
      "mean: 154867.2897232688 ; median: 161160.0\n"
     ]
    },
    {
     "data": {
      "image/png": "[encoded data removed]",
      "text/plain": [
       "<Figure size 432x288 with 1 Axes>"
      ]
     },
     "metadata": {
      "needs_background": "light"
     },
     "output_type": "display_data"
    },
    {
     "name": "stdout",
     "output_type": "stream",
     "text": [
      "CAR_AGE\n",
      "nb of NaNs: 510\n",
      "mean: 8.32871520062737 ; median: 8.0\n"
     ]
    },
    {
     "data": {
      "image/png": "[encoded data removed]",
      "text/plain": [
       "<Figure size 432x288 with 1 Axes>"
      ]
     },
     "metadata": {
      "needs_background": "light"
     },
     "output_type": "display_data"
    }
   ],
   "source": [
    "for col in [\"AGE\", \"YOJ\", \"INCOME\", \"HOME_VAL\", \"CAR_AGE\"]:\n",
    "    print(col)\n",
    "    print(f\"nb of NaNs: {train_df[col].isna().sum()}\")\n",
    "    print(f\"mean: {train_df[col].mean()} ; median: {train_df[col].median()}\")\n",
    "    _ = plt.hist(x=train_df[col].values, bins=20)\n",
    "    _ = plt.axvline(x=train_df[col].mean(), color=\"red\")\n",
    "    _ = plt.axvline(x=train_df[col].median(), color=\"black\")\n",
    "    plt.show()"
   ]
  },
  {
   "cell_type": "markdown",
   "metadata": {},
   "source": [
    "We will fill the AGE column with the median.   \n",
    "For the other columns, there is this 0-peak in the distribution that may indicate specific driver profiles, so we could think of more complex solutions that just using the median of the column to impute missing values.  \n",
    "First, we save the medians of each column, so that they don't get contaminated by the imputing strategy, and can be applied to fill potential missing values in the test dataset (we also save the modes, because the JOB column has missing values too).   "
   ]
  },
  {
   "cell_type": "code",
   "execution_count": 13,
   "metadata": {
    "ExecuteTime": {
     "end_time": "2021-11-18T14:14:21.898125Z",
     "start_time": "2021-11-18T14:14:21.847077Z"
    }
   },
   "outputs": [],
   "source": [
    "train_medians = train_df.median()\n",
    "train_mode = train_df.mode()"
   ]
  },
  {
   "cell_type": "code",
   "execution_count": 14,
   "metadata": {
    "ExecuteTime": {
     "end_time": "2021-11-18T14:14:21.920619Z",
     "start_time": "2021-11-18T14:14:21.900750Z"
    }
   },
   "outputs": [],
   "source": [
    "# Fill the AGE column\n",
    "train_df[\"AGE\"] = train_df[\"AGE\"].fillna(value=train_medians[\"AGE\"])"
   ]
  },
  {
   "cell_type": "markdown",
   "metadata": {},
   "source": [
    "Next, some of the colums with missing values have frequency peaks around 0, and those could be linked: for instance, a driver with no income (INCOME = 0), can be expected to have a HOME_VAL of 0 (expect some cases such as inheritors). Besides, these columns showed some correlation between each other.  \n",
    "Let's see if such patterns appear in the data. "
   ]
  },
  {
   "cell_type": "code",
   "execution_count": 15,
   "metadata": {
    "ExecuteTime": {
     "end_time": "2021-11-18T14:14:23.489125Z",
     "start_time": "2021-11-18T14:14:21.922640Z"
    },
    "scrolled": true
   },
   "outputs": [
    {
     "name": "stdout",
     "output_type": "stream",
     "text": [
      "Number of records where INCOME = 0: 615\n",
      "HOME_VAL when INCOME = 0\n",
      "mean: 38314.617647058825 ; median: 0.0\n"
     ]
    },
    {
     "data": {
      "image/png": "[encoded data removed]",
      "text/plain": [
       "<Figure size 432x288 with 1 Axes>"
      ]
     },
     "metadata": {
      "needs_background": "light"
     },
     "output_type": "display_data"
    },
    {
     "name": "stdout",
     "output_type": "stream",
     "text": [
      "YOJ when INCOME = 0\n",
      "mean: 0.0 ; median: 0.0\n"
     ]
    },
    {
     "data": {
      "image/png": "[encoded data removed]",
      "text/plain": [
       "<Figure size 432x288 with 1 Axes>"
      ]
     },
     "metadata": {
      "needs_background": "light"
     },
     "output_type": "display_data"
    },
    {
     "name": "stdout",
     "output_type": "stream",
     "text": [
      "Number of records where HOME_VAL = 0: 2294\n",
      "INCOME when HOME_VAL = 0\n",
      "mean: 53459.89935661765 ; median: 44494.5\n"
     ]
    },
    {
     "data": {
      "image/png": "[encoded data removed]",
      "text/plain": [
       "<Figure size 432x288 with 1 Axes>"
      ]
     },
     "metadata": {
      "needs_background": "light"
     },
     "output_type": "display_data"
    },
    {
     "name": "stdout",
     "output_type": "stream",
     "text": [
      "YOJ when HOME_VAL = 0\n",
      "mean: 9.117972350230415 ; median: 10.0\n"
     ]
    },
    {
     "data": {
      "image/png": "[encoded data removed]",
      "text/plain": [
       "<Figure size 432x288 with 1 Axes>"
      ]
     },
     "metadata": {
      "needs_background": "light"
     },
     "output_type": "display_data"
    },
    {
     "name": "stdout",
     "output_type": "stream",
     "text": [
      "Number of records where YOJ = 0: 625\n",
      "INCOME when YOJ = 0\n",
      "mean: 94.0 ; median: 0.0\n"
     ]
    },
    {
     "data": {
      "image/png": "[encoded data removed]",
      "text/plain": [
       "<Figure size 432x288 with 1 Axes>"
      ]
     },
     "metadata": {
      "needs_background": "light"
     },
     "output_type": "display_data"
    },
    {
     "name": "stdout",
     "output_type": "stream",
     "text": [
      "HOME_VAL when YOJ = 0\n",
      "mean: 40159.680887372015 ; median: 0.0\n"
     ]
    },
    {
     "data": {
      "image/png": "[encoded data removed]",
      "text/plain": [
       "<Figure size 432x288 with 1 Axes>"
      ]
     },
     "metadata": {
      "needs_background": "light"
     },
     "output_type": "display_data"
    }
   ],
   "source": [
    "for col in [\"INCOME\", \"HOME_VAL\", \"YOJ\"]:\n",
    "    tmp_df = train_df[train_df[col] == 0]\n",
    "    print(f\"Number of records where {col} = 0: {len(tmp_df[col])}\")\n",
    "    for col_bis in [\"INCOME\", \"HOME_VAL\", \"YOJ\"]:\n",
    "        if col == col_bis:\n",
    "            continue\n",
    "        else:\n",
    "            print(f\"{col_bis} when {col} = 0\")\n",
    "            print(f\"mean: {tmp_df[col_bis].mean()} ; median: {tmp_df[col_bis].median()}\")\n",
    "            _ = plt.hist(x=tmp_df[col_bis].values, bins=20)\n",
    "            _ = plt.axvline(x=tmp_df[col_bis].mean(), color=\"red\")\n",
    "            _ = plt.axvline(x=tmp_df[col_bis].median(), color=\"black\")\n",
    "            plt.show()"
   ]
  },
  {
   "cell_type": "markdown",
   "metadata": {},
   "source": [
    "We can indeed see in the plots above that: \n",
    "- YOJ is 0 when INCOME is 0, and the opposite holds too (INCOME is 0 when YOJ is 0)  \n",
    "- More than half of the HOME_VAL values are 0 when INCOME is 0  \n",
    "- More than half of the HOME_VAL values are 0 when YOJ is 0    \n",
    "\n",
    "Therefore, we will first fill some missing values using these observations, before filling the remaining missing values using the column median (previously computed).   \n",
    "However, before doing so, we will first look at the JOB column repartition, because those columns (YOJ, INCOME and HOME_VAl) may have an impact on it. For instance, we can expect more \"Students\" when INCOME or HOME_VAL are 0.  "
   ]
  },
  {
   "cell_type": "code",
   "execution_count": 16,
   "metadata": {
    "ExecuteTime": {
     "end_time": "2021-11-18T14:14:23.692010Z",
     "start_time": "2021-11-18T14:14:23.492772Z"
    }
   },
   "outputs": [
    {
     "data": {
      "text/plain": [
       "<BarContainer object of 8 artists>"
      ]
     },
     "execution_count": 16,
     "metadata": {},
     "output_type": "execute_result"
    },
    {
     "data": {
      "image/png": "[encoded data removed]",
      "text/plain": [
       "<Figure size 432x288 with 1 Axes>"
      ]
     },
     "metadata": {
      "needs_background": "light"
     },
     "output_type": "display_data"
    }
   ],
   "source": [
    "counts = train_df[\"JOB\"].value_counts()\n",
    "plt.bar(x=counts.index, height=counts.values)\n",
    "plt.show()"
   ]
  },
  {
   "cell_type": "code",
   "execution_count": 17,
   "metadata": {
    "ExecuteTime": {
     "end_time": "2021-11-18T14:14:24.308826Z",
     "start_time": "2021-11-18T14:14:23.694434Z"
    },
    "scrolled": true
   },
   "outputs": [
    {
     "name": "stdout",
     "output_type": "stream",
     "text": [
      "When INCOME = 0\n"
     ]
    },
    {
     "data": {
      "text/plain": [
       "<BarContainer object of 8 artists>"
      ]
     },
     "execution_count": 17,
     "metadata": {},
     "output_type": "execute_result"
    },
    {
     "data": {
      "image/png": "[encoded data removed]",
      "text/plain": [
       "<Figure size 432x288 with 1 Axes>"
      ]
     },
     "metadata": {
      "needs_background": "light"
     },
     "output_type": "display_data"
    },
    {
     "name": "stdout",
     "output_type": "stream",
     "text": [
      "When HOME_VAL = 0\n"
     ]
    },
    {
     "data": {
      "text/plain": [
       "<BarContainer object of 8 artists>"
      ]
     },
     "execution_count": 17,
     "metadata": {},
     "output_type": "execute_result"
    },
    {
     "data": {
      "image/png": "[encoded data removed]",
      "text/plain": [
       "<Figure size 432x288 with 1 Axes>"
      ]
     },
     "metadata": {
      "needs_background": "light"
     },
     "output_type": "display_data"
    },
    {
     "name": "stdout",
     "output_type": "stream",
     "text": [
      "When YOJ = 0\n"
     ]
    },
    {
     "data": {
      "text/plain": [
       "<BarContainer object of 8 artists>"
      ]
     },
     "execution_count": 17,
     "metadata": {},
     "output_type": "execute_result"
    },
    {
     "data": {
      "image/png": "[encoded data removed]",
      "text/plain": [
       "<Figure size 432x288 with 1 Axes>"
      ]
     },
     "metadata": {
      "needs_background": "light"
     },
     "output_type": "display_data"
    }
   ],
   "source": [
    "for col in [\"INCOME\", \"HOME_VAL\", \"YOJ\"]:\n",
    "    print(f\"When {col} = 0\")\n",
    "    counts = train_df[train_df[\"HOME_VAL\"] == 0][\"JOB\"].value_counts()\n",
    "    plt.bar(x=counts.index, height=counts.values)\n",
    "    plt.show()"
   ]
  },
  {
   "cell_type": "markdown",
   "metadata": {},
   "source": [
    "The most frequent JOB class is overall blue-collar worker, however when INCOME, HOME_VAL or YOJ is 0, the most frequent class is student.  \n",
    "We will use that as well to fill the values for that column.  "
   ]
  },
  {
   "cell_type": "code",
   "execution_count": 18,
   "metadata": {
    "ExecuteTime": {
     "end_time": "2021-11-18T14:14:24.382627Z",
     "start_time": "2021-11-18T14:14:24.311505Z"
    }
   },
   "outputs": [],
   "source": [
    "# Filling using the observations we made\n",
    "train_df.loc[(train_df[\"INCOME\"].isna()) & (train_df[\"YOJ\"] == 0), \"INCOME\"] = 0\n",
    "train_df.loc[(train_df[\"YOJ\"].isna()) & (train_df[\"INCOME\"] == 0), \"YOJ\"] = 0\n",
    "train_df.loc[(train_df[\"HOME_VAL\"].isna()) &\n",
    "             ((train_df[\"INCOME\"] == 0) | (train_df['YOJ'] == 0)), \"HOME_VAL\"] = 0\n",
    "train_df.loc[(train_df[\"JOB\"].isna()) &\n",
    "             ((train_df[\"INCOME\"] == 0) |\n",
    "              (train_df['YOJ'] == 0) |\n",
    "              (train_df[\"HOME_VAL\"] == 0)), \"JOB\"] = \"Student\"\n",
    "\n",
    "# Filling the remaining with the median or mode\n",
    "for col in [\"INCOME\", \"HOME_VAL\", \"YOJ\", \"CAR_AGE\"]:\n",
    "    train_df[col] = train_df[col].fillna(train_medians[col])\n",
    "train_df[\"JOB\"] = train_df[\"JOB\"].fillna(train_mode[\"JOB\"][0])"
   ]
  },
  {
   "cell_type": "code",
   "execution_count": 19,
   "metadata": {
    "ExecuteTime": {
     "end_time": "2021-11-18T14:14:24.426917Z",
     "start_time": "2021-11-18T14:14:24.391152Z"
    }
   },
   "outputs": [],
   "source": [
    "# Sanity check\n",
    "assert train_df.isna().sum().sum() == 0"
   ]
  },
  {
   "cell_type": "markdown",
   "metadata": {},
   "source": [
    "## Encoding the categorical values"
   ]
  },
  {
   "cell_type": "markdown",
   "metadata": {},
   "source": [
    "The last step before training a Machine Learning algorithm is to encode the categorical variables into numerical ones.  \n",
    "To do so, we will use the One-Hot Encoder provided by scikit-learn.  "
   ]
  },
  {
   "cell_type": "code",
   "execution_count": 20,
   "metadata": {
    "ExecuteTime": {
     "end_time": "2021-11-18T14:14:24.529064Z",
     "start_time": "2021-11-18T14:14:24.429452Z"
    }
   },
   "outputs": [
    {
     "data": {
      "text/plain": [
       "OneHotEncoder(drop='first', sparse=False)"
      ]
     },
     "execution_count": 20,
     "metadata": {},
     "output_type": "execute_result"
    }
   ],
   "source": [
    "# We use drop=\"first\" to avoid creating collinear variables  \n",
    "ohe = OneHotEncoder(drop=\"first\", sparse=False)\n",
    "COLS_TO_ENCODE = [\"PARENT1\", \"MSTATUS\", \"SEX\", \"EDUCATION\", \"JOB\", \"CAR_USE\",\n",
    "                  \"CAR_TYPE\", \"RED_CAR\", \"REVOKED\", \"URBANICITY\"]\n",
    "to_encode_train = train_df[COLS_TO_ENCODE]\n",
    "ohe.fit(to_encode_train.values)\n",
    "train_encoded = ohe.transform(to_encode_train.values)"
   ]
  },
  {
   "cell_type": "code",
   "execution_count": 21,
   "metadata": {
    "ExecuteTime": {
     "end_time": "2021-11-18T14:14:24.584621Z",
     "start_time": "2021-11-18T14:14:24.531518Z"
    },
    "scrolled": true
   },
   "outputs": [
    {
     "data": {
      "text/html": [
       "<div>\n",
       "<style scoped>\n",
       "    .dataframe tbody tr th:only-of-type {\n",
       "        vertical-align: middle;\n",
       "    }\n",
       "\n",
       "    .dataframe tbody tr th {\n",
       "        vertical-align: top;\n",
       "    }\n",
       "\n",
       "    .dataframe thead th {\n",
       "        text-align: right;\n",
       "    }\n",
       "</style>\n",
       "<table border=\"1\" class=\"dataframe\">\n",
       "  <thead>\n",
       "    <tr style=\"text-align: right;\">\n",
       "      <th></th>\n",
       "      <th>4972</th>\n",
       "    </tr>\n",
       "  </thead>\n",
       "  <tbody>\n",
       "    <tr>\n",
       "      <th>TARGET_FLAG</th>\n",
       "      <td>0.0</td>\n",
       "    </tr>\n",
       "    <tr>\n",
       "      <th>KIDSDRIV</th>\n",
       "      <td>0.0</td>\n",
       "    </tr>\n",
       "    <tr>\n",
       "      <th>AGE</th>\n",
       "      <td>46.0</td>\n",
       "    </tr>\n",
       "    <tr>\n",
       "      <th>HOMEKIDS</th>\n",
       "      <td>0.0</td>\n",
       "    </tr>\n",
       "    <tr>\n",
       "      <th>YOJ</th>\n",
       "      <td>6.0</td>\n",
       "    </tr>\n",
       "    <tr>\n",
       "      <th>INCOME</th>\n",
       "      <td>182650.0</td>\n",
       "    </tr>\n",
       "    <tr>\n",
       "      <th>HOME_VAL</th>\n",
       "      <td>419730.0</td>\n",
       "    </tr>\n",
       "    <tr>\n",
       "      <th>TRAVTIME</th>\n",
       "      <td>59.0</td>\n",
       "    </tr>\n",
       "    <tr>\n",
       "      <th>BLUEBOOK</th>\n",
       "      <td>34540.0</td>\n",
       "    </tr>\n",
       "    <tr>\n",
       "      <th>TIF</th>\n",
       "      <td>1.0</td>\n",
       "    </tr>\n",
       "    <tr>\n",
       "      <th>OLDCLAIM</th>\n",
       "      <td>0.0</td>\n",
       "    </tr>\n",
       "    <tr>\n",
       "      <th>CLM_FREQ</th>\n",
       "      <td>0.0</td>\n",
       "    </tr>\n",
       "    <tr>\n",
       "      <th>MVR_PTS</th>\n",
       "      <td>0.0</td>\n",
       "    </tr>\n",
       "    <tr>\n",
       "      <th>CAR_AGE</th>\n",
       "      <td>13.0</td>\n",
       "    </tr>\n",
       "    <tr>\n",
       "      <th>0</th>\n",
       "      <td>0.0</td>\n",
       "    </tr>\n",
       "    <tr>\n",
       "      <th>1</th>\n",
       "      <td>0.0</td>\n",
       "    </tr>\n",
       "    <tr>\n",
       "      <th>2</th>\n",
       "      <td>0.0</td>\n",
       "    </tr>\n",
       "    <tr>\n",
       "      <th>3</th>\n",
       "      <td>0.0</td>\n",
       "    </tr>\n",
       "    <tr>\n",
       "      <th>4</th>\n",
       "      <td>1.0</td>\n",
       "    </tr>\n",
       "    <tr>\n",
       "      <th>5</th>\n",
       "      <td>0.0</td>\n",
       "    </tr>\n",
       "    <tr>\n",
       "      <th>6</th>\n",
       "      <td>0.0</td>\n",
       "    </tr>\n",
       "    <tr>\n",
       "      <th>7</th>\n",
       "      <td>0.0</td>\n",
       "    </tr>\n",
       "    <tr>\n",
       "      <th>8</th>\n",
       "      <td>0.0</td>\n",
       "    </tr>\n",
       "    <tr>\n",
       "      <th>9</th>\n",
       "      <td>0.0</td>\n",
       "    </tr>\n",
       "    <tr>\n",
       "      <th>10</th>\n",
       "      <td>0.0</td>\n",
       "    </tr>\n",
       "    <tr>\n",
       "      <th>11</th>\n",
       "      <td>0.0</td>\n",
       "    </tr>\n",
       "    <tr>\n",
       "      <th>12</th>\n",
       "      <td>0.0</td>\n",
       "    </tr>\n",
       "    <tr>\n",
       "      <th>13</th>\n",
       "      <td>1.0</td>\n",
       "    </tr>\n",
       "    <tr>\n",
       "      <th>14</th>\n",
       "      <td>0.0</td>\n",
       "    </tr>\n",
       "    <tr>\n",
       "      <th>15</th>\n",
       "      <td>1.0</td>\n",
       "    </tr>\n",
       "    <tr>\n",
       "      <th>16</th>\n",
       "      <td>0.0</td>\n",
       "    </tr>\n",
       "    <tr>\n",
       "      <th>17</th>\n",
       "      <td>0.0</td>\n",
       "    </tr>\n",
       "    <tr>\n",
       "      <th>18</th>\n",
       "      <td>0.0</td>\n",
       "    </tr>\n",
       "    <tr>\n",
       "      <th>19</th>\n",
       "      <td>0.0</td>\n",
       "    </tr>\n",
       "    <tr>\n",
       "      <th>20</th>\n",
       "      <td>1.0</td>\n",
       "    </tr>\n",
       "    <tr>\n",
       "      <th>21</th>\n",
       "      <td>0.0</td>\n",
       "    </tr>\n",
       "    <tr>\n",
       "      <th>22</th>\n",
       "      <td>0.0</td>\n",
       "    </tr>\n",
       "  </tbody>\n",
       "</table>\n",
       "</div>"
      ],
      "text/plain": [
       "                 4972\n",
       "TARGET_FLAG       0.0\n",
       "KIDSDRIV          0.0\n",
       "AGE              46.0\n",
       "HOMEKIDS          0.0\n",
       "YOJ               6.0\n",
       "INCOME       182650.0\n",
       "HOME_VAL     419730.0\n",
       "TRAVTIME         59.0\n",
       "BLUEBOOK      34540.0\n",
       "TIF               1.0\n",
       "OLDCLAIM          0.0\n",
       "CLM_FREQ          0.0\n",
       "MVR_PTS           0.0\n",
       "CAR_AGE          13.0\n",
       "0                 0.0\n",
       "1                 0.0\n",
       "2                 0.0\n",
       "3                 0.0\n",
       "4                 1.0\n",
       "5                 0.0\n",
       "6                 0.0\n",
       "7                 0.0\n",
       "8                 0.0\n",
       "9                 0.0\n",
       "10                0.0\n",
       "11                0.0\n",
       "12                0.0\n",
       "13                1.0\n",
       "14                0.0\n",
       "15                1.0\n",
       "16                0.0\n",
       "17                0.0\n",
       "18                0.0\n",
       "19                0.0\n",
       "20                1.0\n",
       "21                0.0\n",
       "22                0.0"
      ]
     },
     "execution_count": 21,
     "metadata": {},
     "output_type": "execute_result"
    }
   ],
   "source": [
    "# Now we drop the categorical columns and add the encoded ones\n",
    "train_df = train_df.drop(COLS_TO_ENCODE, axis=1)\n",
    "train_df = pd.concat([train_df.reset_index(drop=True),\n",
    "                      pd.DataFrame(train_encoded)], axis=1)\n",
    "# Visual check\n",
    "train_df.sample().T"
   ]
  },
  {
   "cell_type": "markdown",
   "metadata": {},
   "source": [
    "## Training some algorithms "
   ]
  },
  {
   "cell_type": "markdown",
   "metadata": {},
   "source": [
    "This binary classification seems suited for classic Machine Learning algorithms, so we will try a few of them.   \n",
    "To assess the performance of the algorithms, we will split the dataset into a training and a validation set.  \n",
    "As the target is unbalanced, we will use the F1-score and the confustion matrix as metrics.  "
   ]
  },
  {
   "cell_type": "markdown",
   "metadata": {},
   "source": [
    "### Train-test split"
   ]
  },
  {
   "cell_type": "markdown",
   "metadata": {},
   "source": [
    "First, we split the current dataset into a training set and a validation set. "
   ]
  },
  {
   "cell_type": "code",
   "execution_count": 22,
   "metadata": {
    "ExecuteTime": {
     "end_time": "2021-11-18T14:14:24.624296Z",
     "start_time": "2021-11-18T14:14:24.587393Z"
    }
   },
   "outputs": [],
   "source": [
    "target = train_df[\"TARGET_FLAG\"]\n",
    "train_vals = train_df.drop([\"TARGET_FLAG\"], axis=1).values\n",
    "\n",
    "X_train, X_valid, y_train, y_valid = train_test_split(train_vals, target,\n",
    "                                                      test_size=0.25, stratify=target)"
   ]
  },
  {
   "cell_type": "code",
   "execution_count": 23,
   "metadata": {
    "ExecuteTime": {
     "end_time": "2021-11-18T14:14:24.673760Z",
     "start_time": "2021-11-18T14:14:24.627452Z"
    }
   },
   "outputs": [],
   "source": [
    "def plot_confusion_matrix(cm, classes=[0, 1], cmap=plt.cm.Blues):\n",
    "    fig, ax = plt.subplots()\n",
    "    im = ax.imshow(cm, interpolation='nearest', cmap=cmap)\n",
    "    ax.figure.colorbar(im, ax=ax)\n",
    "    ax.set(xticks=np.arange(cm.shape[1]),\n",
    "           yticks=np.arange(cm.shape[0]),\n",
    "           xticklabels=classes,\n",
    "           yticklabels=classes,\n",
    "           title=\"Confusion Matrix\",\n",
    "           ylabel='True label',\n",
    "           xlabel='Predicted label')\n",
    "    \n",
    "    thresh = cm.max() / 2.\n",
    "    for i in range(cm.shape[0]):\n",
    "        for j in range(cm.shape[1]):\n",
    "            ax.text(j, i, format(cm[i, j]),\n",
    "                    ha=\"center\", va=\"center\",\n",
    "                    color=\"white\" if cm[i, j] > thresh else \"black\")\n",
    "    fig.tight_layout()\n",
    "    return ax"
   ]
  },
  {
   "cell_type": "markdown",
   "metadata": {},
   "source": [
    "### Random Forest"
   ]
  },
  {
   "cell_type": "code",
   "execution_count": 24,
   "metadata": {
    "ExecuteTime": {
     "end_time": "2021-11-18T14:14:25.996034Z",
     "start_time": "2021-11-18T14:14:24.678259Z"
    }
   },
   "outputs": [
    {
     "data": {
      "text/plain": [
       "RandomForestClassifier(max_depth=10, n_estimators=200, n_jobs=4)"
      ]
     },
     "execution_count": 24,
     "metadata": {},
     "output_type": "execute_result"
    }
   ],
   "source": [
    "rfc = RandomForestClassifier(n_estimators=200, max_depth=10, min_samples_split=2, n_jobs=4)\n",
    "rfc.fit(X=X_train, y=y_train)\n",
    "y_pred_train = rfc.predict(X_train)\n",
    "y_pred_valid = rfc.predict(X_valid)"
   ]
  },
  {
   "cell_type": "code",
   "execution_count": 25,
   "metadata": {
    "ExecuteTime": {
     "end_time": "2021-11-18T14:14:26.771169Z",
     "start_time": "2021-11-18T14:14:26.005079Z"
    }
   },
   "outputs": [
    {
     "name": "stdout",
     "output_type": "stream",
     "text": [
      "F1-score on training set : 0.7307392996108949\n",
      "F1-score on validation set : 0.42392717815344605\n"
     ]
    },
    {
     "data": {
      "text/plain": [
       "<AxesSubplot:title={'center':'Confusion Matrix'}, xlabel='Predicted label', ylabel='True label'>"
      ]
     },
     "execution_count": 25,
     "metadata": {},
     "output_type": "execute_result"
    },
    {
     "data": {
      "image/png": "[encoded data removed]",
      "text/plain": [
       "<Figure size 432x288 with 2 Axes>"
      ]
     },
     "metadata": {
      "needs_background": "light"
     },
     "output_type": "display_data"
    },
    {
     "data": {
      "text/plain": [
       "<AxesSubplot:title={'center':'Confusion Matrix'}, xlabel='Predicted label', ylabel='True label'>"
      ]
     },
     "execution_count": 25,
     "metadata": {},
     "output_type": "execute_result"
    },
    {
     "data": {
      "image/png": "[encoded data removed]",
      "text/plain": [
       "<Figure size 432x288 with 2 Axes>"
      ]
     },
     "metadata": {
      "needs_background": "light"
     },
     "output_type": "display_data"
    }
   ],
   "source": [
    "print(f\"F1-score on training set : {f1_score(y_true=y_train, y_pred=y_pred_train)}\")\n",
    "print(f\"F1-score on validation set : {f1_score(y_true=y_valid, y_pred=y_pred_valid)}\")\n",
    "\n",
    "plot_confusion_matrix(cm=confusion_matrix(y_true=y_train, y_pred=y_pred_train))\n",
    "plt.show()\n",
    "plot_confusion_matrix(cm=confusion_matrix(y_true=y_valid, y_pred=y_pred_valid))\n",
    "plt.show()"
   ]
  },
  {
   "cell_type": "markdown",
   "metadata": {},
   "source": [
    "These parameters for the Random Forest give us a baseline.  \n",
    "Even on the training set, there are many misclassification errors, especially False Negatives (1s being predicted as 0s).   \n",
    "\n",
    "We will try to play a bit on the max_depth parameter. We also know that we could increase the number of trees (n_estimators), which should yield better results, however this means more computation time and memory use for a marginal gain.   "
   ]
  },
  {
   "cell_type": "code",
   "execution_count": 26,
   "metadata": {
    "ExecuteTime": {
     "end_time": "2021-11-18T14:14:58.702364Z",
     "start_time": "2021-11-18T14:14:26.774426Z"
    }
   },
   "outputs": [
    {
     "data": {
      "text/plain": [
       "GridSearchCV(cv=4, estimator=RandomForestClassifier(n_estimators=200, n_jobs=4),\n",
       "             n_jobs=4,\n",
       "             param_grid={'max_depth': [5, 10, 15, 20],\n",
       "                         'min_samples_split': [2, 4, 8]},\n",
       "             scoring='f1')"
      ]
     },
     "execution_count": 26,
     "metadata": {},
     "output_type": "execute_result"
    }
   ],
   "source": [
    "param_grid = {'max_depth' : [5, 10, 15, 20],\n",
    "             'min_samples_split': [2, 4, 8]}\n",
    "\n",
    "rfc = RandomForestClassifier(n_estimators=200, n_jobs=4)\n",
    "gscv = GridSearchCV(estimator=rfc, param_grid=param_grid, scoring=\"f1\", cv=4,\n",
    "                    n_jobs=4, refit=True)\n",
    "gscv.fit(X_train, y_train)"
   ]
  },
  {
   "cell_type": "code",
   "execution_count": 27,
   "metadata": {
    "ExecuteTime": {
     "end_time": "2021-11-18T14:14:58.727021Z",
     "start_time": "2021-11-18T14:14:58.705330Z"
    }
   },
   "outputs": [
    {
     "data": {
      "text/plain": [
       "RandomForestClassifier(max_depth=20, min_samples_split=4, n_estimators=200,\n",
       "                       n_jobs=4)"
      ]
     },
     "execution_count": 27,
     "metadata": {},
     "output_type": "execute_result"
    }
   ],
   "source": [
    "gscv.best_estimator_"
   ]
  },
  {
   "cell_type": "markdown",
   "metadata": {},
   "source": [
    "The best estimator is the one where trees can grow up to a depth of 20. As this is the maximum depth we allowed in our grid search parameters, we could try later a new Grid Search with higher values for the depth.    "
   ]
  },
  {
   "cell_type": "code",
   "execution_count": 28,
   "metadata": {
    "ExecuteTime": {
     "end_time": "2021-11-18T14:14:58.975081Z",
     "start_time": "2021-11-18T14:14:58.728773Z"
    }
   },
   "outputs": [],
   "source": [
    "y_pred_train = gscv.best_estimator_.predict(X_train)\n",
    "y_pred_valid = gscv.best_estimator_.predict(X_valid)"
   ]
  },
  {
   "cell_type": "code",
   "execution_count": 29,
   "metadata": {
    "ExecuteTime": {
     "end_time": "2021-11-18T14:14:59.635975Z",
     "start_time": "2021-11-18T14:14:58.976991Z"
    }
   },
   "outputs": [
    {
     "name": "stdout",
     "output_type": "stream",
     "text": [
      "F1-score on training set : 0.9868255959849436\n",
      "F1-score on validation set : 0.4768683274021352\n"
     ]
    },
    {
     "data": {
      "text/plain": [
       "<AxesSubplot:title={'center':'Confusion Matrix'}, xlabel='Predicted label', ylabel='True label'>"
      ]
     },
     "execution_count": 29,
     "metadata": {},
     "output_type": "execute_result"
    },
    {
     "data": {
      "image/png": "[encoded data removed]",
      "text/plain": [
       "<Figure size 432x288 with 2 Axes>"
      ]
     },
     "metadata": {
      "needs_background": "light"
     },
     "output_type": "display_data"
    },
    {
     "data": {
      "text/plain": [
       "<AxesSubplot:title={'center':'Confusion Matrix'}, xlabel='Predicted label', ylabel='True label'>"
      ]
     },
     "execution_count": 29,
     "metadata": {},
     "output_type": "execute_result"
    },
    {
     "data": {
      "image/png": "[encoded data removed]",
      "text/plain": [
       "<Figure size 432x288 with 2 Axes>"
      ]
     },
     "metadata": {
      "needs_background": "light"
     },
     "output_type": "display_data"
    }
   ],
   "source": [
    "print(f\"F1-score on training set : {f1_score(y_true=y_train, y_pred=y_pred_train)}\")\n",
    "print(f\"F1-score on validation set : {f1_score(y_true=y_valid, y_pred=y_pred_valid)}\")\n",
    "\n",
    "plot_confusion_matrix(cm=confusion_matrix(y_true=y_train, y_pred=y_pred_train))\n",
    "plt.show()\n",
    "plot_confusion_matrix(cm=confusion_matrix(y_true=y_valid, y_pred=y_pred_valid))\n",
    "plt.show()"
   ]
  },
  {
   "cell_type": "markdown",
   "metadata": {},
   "source": [
    "The classification is way better on the training set (with nearly no False Positives), with still a lot of misclassified samples in the validation set.  \n",
    "Yet, the score on the validation set improved from the baseline.  "
   ]
  },
  {
   "cell_type": "markdown",
   "metadata": {},
   "source": [
    "### Logistic Regression"
   ]
  },
  {
   "cell_type": "markdown",
   "metadata": {},
   "source": [
    "As this algorithm (at least the implementation in scikit-learn) uses regularization, we need to scale the features first"
   ]
  },
  {
   "cell_type": "code",
   "execution_count": 30,
   "metadata": {
    "ExecuteTime": {
     "end_time": "2021-11-18T14:14:59.665587Z",
     "start_time": "2021-11-18T14:14:59.638285Z"
    }
   },
   "outputs": [
    {
     "data": {
      "text/plain": [
       "StandardScaler()"
      ]
     },
     "execution_count": 30,
     "metadata": {},
     "output_type": "execute_result"
    }
   ],
   "source": [
    "scaler = StandardScaler()\n",
    "scaler.fit(X_train)\n",
    "X_train_scaled = scaler.transform(X_train)\n",
    "X_valid_scaled = scaler.transform(X_valid)"
   ]
  },
  {
   "cell_type": "code",
   "execution_count": 31,
   "metadata": {
    "ExecuteTime": {
     "end_time": "2021-11-18T14:14:59.867409Z",
     "start_time": "2021-11-18T14:14:59.669329Z"
    }
   },
   "outputs": [
    {
     "data": {
      "text/plain": [
       "LogisticRegression(n_jobs=4)"
      ]
     },
     "execution_count": 31,
     "metadata": {},
     "output_type": "execute_result"
    }
   ],
   "source": [
    "lr = LogisticRegression(n_jobs=4)\n",
    "lr.fit(X_train_scaled, y_train)\n",
    "y_pred_train = lr.predict(X_train_scaled)\n",
    "y_pred_valid = lr.predict(X_valid_scaled)"
   ]
  },
  {
   "cell_type": "code",
   "execution_count": 32,
   "metadata": {
    "ExecuteTime": {
     "end_time": "2021-11-18T14:15:00.524587Z",
     "start_time": "2021-11-18T14:14:59.870993Z"
    }
   },
   "outputs": [
    {
     "name": "stdout",
     "output_type": "stream",
     "text": [
      "F1-score on training set : 0.5269143290371493\n",
      "F1-score on validation set : 0.5005688282138793\n"
     ]
    },
    {
     "data": {
      "text/plain": [
       "<AxesSubplot:title={'center':'Confusion Matrix'}, xlabel='Predicted label', ylabel='True label'>"
      ]
     },
     "execution_count": 32,
     "metadata": {},
     "output_type": "execute_result"
    },
    {
     "data": {
      "image/png": "[encoded data removed]",
      "text/plain": [
       "<Figure size 432x288 with 2 Axes>"
      ]
     },
     "metadata": {
      "needs_background": "light"
     },
     "output_type": "display_data"
    },
    {
     "data": {
      "text/plain": [
       "<AxesSubplot:title={'center':'Confusion Matrix'}, xlabel='Predicted label', ylabel='True label'>"
      ]
     },
     "execution_count": 32,
     "metadata": {},
     "output_type": "execute_result"
    },
    {
     "data": {
      "image/png": "[encoded data removed]",
      "text/plain": [
       "<Figure size 432x288 with 2 Axes>"
      ]
     },
     "metadata": {
      "needs_background": "light"
     },
     "output_type": "display_data"
    }
   ],
   "source": [
    "print(f\"F1-score on training set : {f1_score(y_true=y_train, y_pred=y_pred_train)}\")\n",
    "print(f\"F1-score on validation set : {f1_score(y_true=y_valid, y_pred=y_pred_valid)}\")\n",
    "\n",
    "plot_confusion_matrix(cm=confusion_matrix(y_true=y_train, y_pred=y_pred_train))\n",
    "plt.show()\n",
    "plot_confusion_matrix(cm=confusion_matrix(y_true=y_valid, y_pred=y_pred_valid))\n",
    "plt.show()"
   ]
  },
  {
   "cell_type": "markdown",
   "metadata": {},
   "source": [
    "This model yields better results on the validation set than the Random Forest did (even after some quick hyperparameter tuning).  \n",
    "Besides, this model yields quite similar F1-scores on the training and on the validation set, which is a good sign. "
   ]
  },
  {
   "cell_type": "markdown",
   "metadata": {},
   "source": [
    "# Generating predictions on the test set"
   ]
  },
  {
   "cell_type": "markdown",
   "metadata": {},
   "source": [
    "We will have to apply the same transformation to this dataset as we did on the training one. \n",
    "That is, filling the missing values in the same way, and using the same encoder and scaler.  "
   ]
  },
  {
   "cell_type": "code",
   "execution_count": 33,
   "metadata": {
    "ExecuteTime": {
     "end_time": "2021-11-18T14:15:00.577476Z",
     "start_time": "2021-11-18T14:15:00.526450Z"
    }
   },
   "outputs": [
    {
     "name": "stdout",
     "output_type": "stream",
     "text": [
      "(2141, 25)\n"
     ]
    },
    {
     "data": {
      "text/html": [
       "<div>\n",
       "<style scoped>\n",
       "    .dataframe tbody tr th:only-of-type {\n",
       "        vertical-align: middle;\n",
       "    }\n",
       "\n",
       "    .dataframe tbody tr th {\n",
       "        vertical-align: top;\n",
       "    }\n",
       "\n",
       "    .dataframe thead th {\n",
       "        text-align: right;\n",
       "    }\n",
       "</style>\n",
       "<table border=\"1\" class=\"dataframe\">\n",
       "  <thead>\n",
       "    <tr style=\"text-align: right;\">\n",
       "      <th>INDEX</th>\n",
       "      <th>9115</th>\n",
       "    </tr>\n",
       "  </thead>\n",
       "  <tbody>\n",
       "    <tr>\n",
       "      <th>TARGET_FLAG</th>\n",
       "      <td>NaN</td>\n",
       "    </tr>\n",
       "    <tr>\n",
       "      <th>TARGET_AMT</th>\n",
       "      <td>NaN</td>\n",
       "    </tr>\n",
       "    <tr>\n",
       "      <th>KIDSDRIV</th>\n",
       "      <td>0</td>\n",
       "    </tr>\n",
       "    <tr>\n",
       "      <th>AGE</th>\n",
       "      <td>52.0</td>\n",
       "    </tr>\n",
       "    <tr>\n",
       "      <th>HOMEKIDS</th>\n",
       "      <td>0</td>\n",
       "    </tr>\n",
       "    <tr>\n",
       "      <th>YOJ</th>\n",
       "      <td>11.0</td>\n",
       "    </tr>\n",
       "    <tr>\n",
       "      <th>INCOME</th>\n",
       "      <td>$41,408</td>\n",
       "    </tr>\n",
       "    <tr>\n",
       "      <th>PARENT1</th>\n",
       "      <td>No</td>\n",
       "    </tr>\n",
       "    <tr>\n",
       "      <th>HOME_VAL</th>\n",
       "      <td>$199,056</td>\n",
       "    </tr>\n",
       "    <tr>\n",
       "      <th>MSTATUS</th>\n",
       "      <td>z_No</td>\n",
       "    </tr>\n",
       "    <tr>\n",
       "      <th>SEX</th>\n",
       "      <td>z_F</td>\n",
       "    </tr>\n",
       "    <tr>\n",
       "      <th>EDUCATION</th>\n",
       "      <td>Bachelors</td>\n",
       "    </tr>\n",
       "    <tr>\n",
       "      <th>JOB</th>\n",
       "      <td>Clerical</td>\n",
       "    </tr>\n",
       "    <tr>\n",
       "      <th>TRAVTIME</th>\n",
       "      <td>32</td>\n",
       "    </tr>\n",
       "    <tr>\n",
       "      <th>CAR_USE</th>\n",
       "      <td>Private</td>\n",
       "    </tr>\n",
       "    <tr>\n",
       "      <th>BLUEBOOK</th>\n",
       "      <td>$5,640</td>\n",
       "    </tr>\n",
       "    <tr>\n",
       "      <th>TIF</th>\n",
       "      <td>4</td>\n",
       "    </tr>\n",
       "    <tr>\n",
       "      <th>CAR_TYPE</th>\n",
       "      <td>z_SUV</td>\n",
       "    </tr>\n",
       "    <tr>\n",
       "      <th>RED_CAR</th>\n",
       "      <td>no</td>\n",
       "    </tr>\n",
       "    <tr>\n",
       "      <th>OLDCLAIM</th>\n",
       "      <td>$0</td>\n",
       "    </tr>\n",
       "    <tr>\n",
       "      <th>CLM_FREQ</th>\n",
       "      <td>0</td>\n",
       "    </tr>\n",
       "    <tr>\n",
       "      <th>REVOKED</th>\n",
       "      <td>No</td>\n",
       "    </tr>\n",
       "    <tr>\n",
       "      <th>MVR_PTS</th>\n",
       "      <td>0</td>\n",
       "    </tr>\n",
       "    <tr>\n",
       "      <th>CAR_AGE</th>\n",
       "      <td>10.0</td>\n",
       "    </tr>\n",
       "    <tr>\n",
       "      <th>URBANICITY</th>\n",
       "      <td>z_Highly Rural/ Rural</td>\n",
       "    </tr>\n",
       "  </tbody>\n",
       "</table>\n",
       "</div>"
      ],
      "text/plain": [
       "INDEX                         9115\n",
       "TARGET_FLAG                    NaN\n",
       "TARGET_AMT                     NaN\n",
       "KIDSDRIV                         0\n",
       "AGE                           52.0\n",
       "HOMEKIDS                         0\n",
       "YOJ                           11.0\n",
       "INCOME                    $41,408 \n",
       "PARENT1                         No\n",
       "HOME_VAL                 $199,056 \n",
       "MSTATUS                       z_No\n",
       "SEX                            z_F\n",
       "EDUCATION                Bachelors\n",
       "JOB                       Clerical\n",
       "TRAVTIME                        32\n",
       "CAR_USE                    Private\n",
       "BLUEBOOK                   $5,640 \n",
       "TIF                              4\n",
       "CAR_TYPE                     z_SUV\n",
       "RED_CAR                         no\n",
       "OLDCLAIM                       $0 \n",
       "CLM_FREQ                         0\n",
       "REVOKED                         No\n",
       "MVR_PTS                          0\n",
       "CAR_AGE                       10.0\n",
       "URBANICITY   z_Highly Rural/ Rural"
      ]
     },
     "execution_count": 33,
     "metadata": {},
     "output_type": "execute_result"
    }
   ],
   "source": [
    "test_df = pd.read_csv(\"test_auto.csv\", index_col=0)\n",
    "print(test_df.shape)\n",
    "test_df.sample().T"
   ]
  },
  {
   "cell_type": "code",
   "execution_count": 34,
   "metadata": {
    "ExecuteTime": {
     "end_time": "2021-11-18T14:15:00.625679Z",
     "start_time": "2021-11-18T14:15:00.580182Z"
    }
   },
   "outputs": [],
   "source": [
    "# Removing the dollar sign and casting the money columns to float\n",
    "test_df[\"INCOME\"] = test_df[\"INCOME\"].apply(dollar_amount_to_float)\n",
    "test_df[\"HOME_VAL\"] = test_df[\"HOME_VAL\"].apply(dollar_amount_to_float)\n",
    "test_df[\"BLUEBOOK\"] = test_df[\"BLUEBOOK\"].apply(dollar_amount_to_float)\n",
    "test_df[\"OLDCLAIM\"] = test_df[\"OLDCLAIM\"].apply(dollar_amount_to_float)"
   ]
  },
  {
   "cell_type": "code",
   "execution_count": 35,
   "metadata": {
    "ExecuteTime": {
     "end_time": "2021-11-18T14:15:00.647423Z",
     "start_time": "2021-11-18T14:15:00.627822Z"
    }
   },
   "outputs": [],
   "source": [
    "# Dropping the target columns\n",
    "test_df = test_df.drop([\"TARGET_FLAG\", \"TARGET_AMT\"], axis=1)"
   ]
  },
  {
   "cell_type": "code",
   "execution_count": 36,
   "metadata": {
    "ExecuteTime": {
     "end_time": "2021-11-18T14:15:00.670339Z",
     "start_time": "2021-11-18T14:15:00.650624Z"
    }
   },
   "outputs": [],
   "source": [
    "# We keep the index to save the test predictions later\n",
    "test_index = test_df.index"
   ]
  },
  {
   "cell_type": "markdown",
   "metadata": {},
   "source": [
    "## Filling the missing values"
   ]
  },
  {
   "cell_type": "code",
   "execution_count": 37,
   "metadata": {
    "ExecuteTime": {
     "end_time": "2021-11-18T14:15:00.709156Z",
     "start_time": "2021-11-18T14:15:00.675162Z"
    }
   },
   "outputs": [
    {
     "data": {
      "text/plain": [
       "KIDSDRIV        0\n",
       "AGE             1\n",
       "HOMEKIDS        0\n",
       "YOJ            94\n",
       "INCOME        125\n",
       "PARENT1         0\n",
       "HOME_VAL      111\n",
       "MSTATUS         0\n",
       "SEX             0\n",
       "EDUCATION       0\n",
       "JOB           139\n",
       "TRAVTIME        0\n",
       "CAR_USE         0\n",
       "BLUEBOOK        0\n",
       "TIF             0\n",
       "CAR_TYPE        0\n",
       "RED_CAR         0\n",
       "OLDCLAIM        0\n",
       "CLM_FREQ        0\n",
       "REVOKED         0\n",
       "MVR_PTS         0\n",
       "CAR_AGE       129\n",
       "URBANICITY      0\n",
       "dtype: int64"
      ]
     },
     "execution_count": 37,
     "metadata": {},
     "output_type": "execute_result"
    }
   ],
   "source": [
    "# Looking for missing values\n",
    "test_df.isna().sum()"
   ]
  },
  {
   "cell_type": "markdown",
   "metadata": {},
   "source": [
    "The columns with missing values are the same as for the training set.  \n",
    "We will use the same rules as before to fill those, by taking care of using the values (median and mode of the train set), ie:\n",
    "- fill the AGE with the median (from the training set)   \n",
    "- set YOJ to 0 if INCOME is 0 and the opposite  \n",
    "- set HOME_VAL to 0 if INCOME or YOJ is 0  \n",
    "- set JOB to student if INCOME or YOJ or HOME_VAL is 0  \n",
    "- fill the remaining missing values with the median (from the training set) for INCOME, YOJ, HOME_VAL, CAR_AGE, and with the mode (from the training set) for JOB"
   ]
  },
  {
   "cell_type": "code",
   "execution_count": 38,
   "metadata": {
    "ExecuteTime": {
     "end_time": "2021-11-18T14:15:00.757043Z",
     "start_time": "2021-11-18T14:15:00.712153Z"
    }
   },
   "outputs": [],
   "source": [
    "# Fill the AGE column\n",
    "test_df[\"AGE\"] = test_df[\"AGE\"].fillna(value=train_medians[\"AGE\"])\n",
    "\n",
    "# Filling using the observations we made\n",
    "test_df.loc[(test_df[\"INCOME\"].isna()) & (test_df[\"YOJ\"] == 0), \"INCOME\"] = 0\n",
    "test_df.loc[(test_df[\"YOJ\"].isna()) & (test_df[\"INCOME\"] == 0), \"YOJ\"] = 0\n",
    "test_df.loc[(test_df[\"HOME_VAL\"].isna()) &\n",
    "            ((test_df[\"INCOME\"] == 0) | (test_df['YOJ'] == 0)), \"HOME_VAL\"] = 0\n",
    "test_df.loc[(test_df[\"JOB\"].isna()) &\n",
    "             ((test_df[\"INCOME\"] == 0) |\n",
    "              (test_df['YOJ'] == 0) |\n",
    "              (test_df[\"HOME_VAL\"] == 0)), \"JOB\"] = \"Student\"\n",
    "\n",
    "# Filling the remaining with the median or mode\n",
    "for col in [\"INCOME\", \"HOME_VAL\", \"YOJ\", \"CAR_AGE\"]:\n",
    "    test_df[col] = test_df[col].fillna(train_medians[col])\n",
    "test_df[\"JOB\"] = test_df[\"JOB\"].fillna(train_mode[\"JOB\"][0])"
   ]
  },
  {
   "cell_type": "markdown",
   "metadata": {},
   "source": [
    "## Encoding the categorical values"
   ]
  },
  {
   "cell_type": "markdown",
   "metadata": {},
   "source": [
    "We re-use the encoder that was \"fitted\" on the training set. "
   ]
  },
  {
   "cell_type": "code",
   "execution_count": 39,
   "metadata": {
    "ExecuteTime": {
     "end_time": "2021-11-18T14:15:00.809673Z",
     "start_time": "2021-11-18T14:15:00.759005Z"
    },
    "scrolled": true
   },
   "outputs": [
    {
     "data": {
      "text/html": [
       "<div>\n",
       "<style scoped>\n",
       "    .dataframe tbody tr th:only-of-type {\n",
       "        vertical-align: middle;\n",
       "    }\n",
       "\n",
       "    .dataframe tbody tr th {\n",
       "        vertical-align: top;\n",
       "    }\n",
       "\n",
       "    .dataframe thead th {\n",
       "        text-align: right;\n",
       "    }\n",
       "</style>\n",
       "<table border=\"1\" class=\"dataframe\">\n",
       "  <thead>\n",
       "    <tr style=\"text-align: right;\">\n",
       "      <th></th>\n",
       "      <th>987</th>\n",
       "    </tr>\n",
       "  </thead>\n",
       "  <tbody>\n",
       "    <tr>\n",
       "      <th>KIDSDRIV</th>\n",
       "      <td>0.0</td>\n",
       "    </tr>\n",
       "    <tr>\n",
       "      <th>AGE</th>\n",
       "      <td>44.0</td>\n",
       "    </tr>\n",
       "    <tr>\n",
       "      <th>HOMEKIDS</th>\n",
       "      <td>3.0</td>\n",
       "    </tr>\n",
       "    <tr>\n",
       "      <th>YOJ</th>\n",
       "      <td>17.0</td>\n",
       "    </tr>\n",
       "    <tr>\n",
       "      <th>INCOME</th>\n",
       "      <td>49098.0</td>\n",
       "    </tr>\n",
       "    <tr>\n",
       "      <th>HOME_VAL</th>\n",
       "      <td>157404.0</td>\n",
       "    </tr>\n",
       "    <tr>\n",
       "      <th>TRAVTIME</th>\n",
       "      <td>33.0</td>\n",
       "    </tr>\n",
       "    <tr>\n",
       "      <th>BLUEBOOK</th>\n",
       "      <td>5900.0</td>\n",
       "    </tr>\n",
       "    <tr>\n",
       "      <th>TIF</th>\n",
       "      <td>1.0</td>\n",
       "    </tr>\n",
       "    <tr>\n",
       "      <th>OLDCLAIM</th>\n",
       "      <td>0.0</td>\n",
       "    </tr>\n",
       "    <tr>\n",
       "      <th>CLM_FREQ</th>\n",
       "      <td>0.0</td>\n",
       "    </tr>\n",
       "    <tr>\n",
       "      <th>MVR_PTS</th>\n",
       "      <td>2.0</td>\n",
       "    </tr>\n",
       "    <tr>\n",
       "      <th>CAR_AGE</th>\n",
       "      <td>13.0</td>\n",
       "    </tr>\n",
       "    <tr>\n",
       "      <th>0</th>\n",
       "      <td>0.0</td>\n",
       "    </tr>\n",
       "    <tr>\n",
       "      <th>1</th>\n",
       "      <td>0.0</td>\n",
       "    </tr>\n",
       "    <tr>\n",
       "      <th>2</th>\n",
       "      <td>0.0</td>\n",
       "    </tr>\n",
       "    <tr>\n",
       "      <th>3</th>\n",
       "      <td>1.0</td>\n",
       "    </tr>\n",
       "    <tr>\n",
       "      <th>4</th>\n",
       "      <td>0.0</td>\n",
       "    </tr>\n",
       "    <tr>\n",
       "      <th>5</th>\n",
       "      <td>0.0</td>\n",
       "    </tr>\n",
       "    <tr>\n",
       "      <th>6</th>\n",
       "      <td>0.0</td>\n",
       "    </tr>\n",
       "    <tr>\n",
       "      <th>7</th>\n",
       "      <td>0.0</td>\n",
       "    </tr>\n",
       "    <tr>\n",
       "      <th>8</th>\n",
       "      <td>0.0</td>\n",
       "    </tr>\n",
       "    <tr>\n",
       "      <th>9</th>\n",
       "      <td>0.0</td>\n",
       "    </tr>\n",
       "    <tr>\n",
       "      <th>10</th>\n",
       "      <td>0.0</td>\n",
       "    </tr>\n",
       "    <tr>\n",
       "      <th>11</th>\n",
       "      <td>0.0</td>\n",
       "    </tr>\n",
       "    <tr>\n",
       "      <th>12</th>\n",
       "      <td>0.0</td>\n",
       "    </tr>\n",
       "    <tr>\n",
       "      <th>13</th>\n",
       "      <td>1.0</td>\n",
       "    </tr>\n",
       "    <tr>\n",
       "      <th>14</th>\n",
       "      <td>0.0</td>\n",
       "    </tr>\n",
       "    <tr>\n",
       "      <th>15</th>\n",
       "      <td>0.0</td>\n",
       "    </tr>\n",
       "    <tr>\n",
       "      <th>16</th>\n",
       "      <td>1.0</td>\n",
       "    </tr>\n",
       "    <tr>\n",
       "      <th>17</th>\n",
       "      <td>0.0</td>\n",
       "    </tr>\n",
       "    <tr>\n",
       "      <th>18</th>\n",
       "      <td>0.0</td>\n",
       "    </tr>\n",
       "    <tr>\n",
       "      <th>19</th>\n",
       "      <td>0.0</td>\n",
       "    </tr>\n",
       "    <tr>\n",
       "      <th>20</th>\n",
       "      <td>1.0</td>\n",
       "    </tr>\n",
       "    <tr>\n",
       "      <th>21</th>\n",
       "      <td>0.0</td>\n",
       "    </tr>\n",
       "    <tr>\n",
       "      <th>22</th>\n",
       "      <td>1.0</td>\n",
       "    </tr>\n",
       "  </tbody>\n",
       "</table>\n",
       "</div>"
      ],
      "text/plain": [
       "               987\n",
       "KIDSDRIV       0.0\n",
       "AGE           44.0\n",
       "HOMEKIDS       3.0\n",
       "YOJ           17.0\n",
       "INCOME     49098.0\n",
       "HOME_VAL  157404.0\n",
       "TRAVTIME      33.0\n",
       "BLUEBOOK    5900.0\n",
       "TIF            1.0\n",
       "OLDCLAIM       0.0\n",
       "CLM_FREQ       0.0\n",
       "MVR_PTS        2.0\n",
       "CAR_AGE       13.0\n",
       "0              0.0\n",
       "1              0.0\n",
       "2              0.0\n",
       "3              1.0\n",
       "4              0.0\n",
       "5              0.0\n",
       "6              0.0\n",
       "7              0.0\n",
       "8              0.0\n",
       "9              0.0\n",
       "10             0.0\n",
       "11             0.0\n",
       "12             0.0\n",
       "13             1.0\n",
       "14             0.0\n",
       "15             0.0\n",
       "16             1.0\n",
       "17             0.0\n",
       "18             0.0\n",
       "19             0.0\n",
       "20             1.0\n",
       "21             0.0\n",
       "22             1.0"
      ]
     },
     "execution_count": 39,
     "metadata": {},
     "output_type": "execute_result"
    }
   ],
   "source": [
    "to_encode_test = test_df[COLS_TO_ENCODE]\n",
    "test_encoded = ohe.transform(to_encode_test.values)\n",
    "\n",
    "# Now we drop the categorical columns and add the encoded ones\n",
    "test_df = test_df.drop(COLS_TO_ENCODE, axis=1)\n",
    "test_df = pd.concat([test_df.reset_index(drop=True),\n",
    "                      pd.DataFrame(test_encoded)], axis=1)\n",
    "# Visual check\n",
    "test_df.sample().T"
   ]
  },
  {
   "cell_type": "markdown",
   "metadata": {},
   "source": [
    "## Predictions"
   ]
  },
  {
   "cell_type": "markdown",
   "metadata": {},
   "source": [
    "I will use the Logistic Regression model trained before to predict the target on the test set, because it is the model that gave the best metric (F1-score) on the validation set.  "
   ]
  },
  {
   "cell_type": "code",
   "execution_count": 40,
   "metadata": {
    "ExecuteTime": {
     "end_time": "2021-11-18T14:15:00.841058Z",
     "start_time": "2021-11-18T14:15:00.812463Z"
    }
   },
   "outputs": [],
   "source": [
    "test_vals = test_df.values\n",
    "# Sanity check\n",
    "assert test_vals.shape[1] == train_vals.shape[1]"
   ]
  },
  {
   "cell_type": "code",
   "execution_count": 41,
   "metadata": {
    "ExecuteTime": {
     "end_time": "2021-11-18T14:15:00.869197Z",
     "start_time": "2021-11-18T14:15:00.843841Z"
    }
   },
   "outputs": [],
   "source": [
    "X_test_scaled = scaler.transform(test_vals)\n",
    "y_test_pred = lr.predict(X_test_scaled)"
   ]
  },
  {
   "cell_type": "code",
   "execution_count": 42,
   "metadata": {
    "ExecuteTime": {
     "end_time": "2021-11-18T14:15:00.911071Z",
     "start_time": "2021-11-18T14:15:00.872277Z"
    }
   },
   "outputs": [],
   "source": [
    "# Save predictions to CSV\n",
    "pd.DataFrame(data={\"PREDICTION\": y_test_pred},\n",
    "             index=test_index).to_csv(\"test_predictions.csv\")"
   ]
  },
  {
   "cell_type": "markdown",
   "metadata": {},
   "source": [
    "# Next steps"
   ]
  },
  {
   "cell_type": "markdown",
   "metadata": {},
   "source": [
    "To keep on improving the predictions with more time, I have a few more ideas.  \n",
    "\n",
    "First, given that the two models we trained have different characteristics (the Random Forest one has fewer False Positives, and the Logistic Regression one has fewer False Negatives), we could try to combine the results of both models. In the same idea, we could as well try to train additional models.  \n",
    "\n",
    "As the target is unbalanced and the dataset contains fewer positive samples, we could also try to use some oversampling techniques so that the Machine Learning algorithm is fed with more positive examples during the training phase.  \n",
    "\n",
    "We could also come back to the feature engineering step. For instance, we could \"binarize\" the features having mostly 0s (such as KIDSDRIV, HOMEKIDS and MVR_PTS), in order to put the emphasis on whether or not this value is 0.  \n",
    "\n",
    "Finally, we could also do a new pass on the imputing step. For instance, we could use some Machine Learning algorithms to predict the missing features, using the other featuures. However, such approach would add more complexity to the whole process.  "
   ]
  }
 ],
 "metadata": {
  "kernelspec": {
   "display_name": "mining",
   "language": "python",
   "name": "mining"
  },
  "language_info": {
   "codemirror_mode": {
    "name": "ipython",
    "version": 3
   },
   "file_extension": ".py",
   "mimetype": "text/x-python",
   "name": "python",
   "nbconvert_exporter": "python",
   "pygments_lexer": "ipython3",
   "version": "3.8.10"
  },
  "toc": {
   "base_numbering": 1,
   "nav_menu": {},
   "number_sections": true,
   "sideBar": true,
   "skip_h1_title": false,
   "title_cell": "Table of Contents",
   "title_sidebar": "Contents",
   "toc_cell": true,
   "toc_position": {
    "height": "calc(100% - 180px)",
    "left": "10px",
    "top": "150px",
    "width": "369.594px"
   },
   "toc_section_display": true,
   "toc_window_display": true
  },
  "varInspector": {
   "cols": {
    "lenName": 16,
    "lenType": 16,
    "lenVar": 40
   },
   "kernels_config": {
    "python": {
     "delete_cmd_postfix": "",
     "delete_cmd_prefix": "del ",
     "library": "var_list.py",
     "varRefreshCmd": "print(var_dic_list())"
    },
    "r": {
     "delete_cmd_postfix": ") ",
     "delete_cmd_prefix": "rm(",
     "library": "var_list.r",
     "varRefreshCmd": "cat(var_dic_list()) "
    }
   },
   "types_to_exclude": [
    "module",
    "function",
    "builtin_function_or_method",
    "instance",
    "_Feature"
   ],
   "window_display": false
  }
 },
 "nbformat": 4,
 "nbformat_minor": 4
}
